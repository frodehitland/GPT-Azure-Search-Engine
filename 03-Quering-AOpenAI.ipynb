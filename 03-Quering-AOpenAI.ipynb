{
 "cells": [
  {
   "cell_type": "markdown",
   "id": "d59d527f-1100-45ff-b051-5f7c9029d94d",
   "metadata": {},
   "source": [
    "# Queries with and without Azure OpenAI"
   ]
  },
  {
   "cell_type": "markdown",
   "id": "eb9a9444-dc90-4fc3-aea7-8ee918301aba",
   "metadata": {},
   "source": [
    "So far, you have your Search Engine loaded **from two different data sources in two diferent indexes**, on this notebook we are going to try some example queries and then use Azure OpenAI service to see if we can get a good answer for the user query.\n",
    "\n",
    "The idea is that a user can ask a question about Computer Science (first datasource/index) or about Covid (second datasource/index), and the engine will respond accordingly.\n",
    "This **Multi-Index** demo, mimics the scenario where a company loads multiple type of documents of different types and about completly different topics and the search engine must respond with the most relevant results."
   ]
  },
  {
   "cell_type": "markdown",
   "id": "71f6c7e3-9037-4b1e-ae17-1deaa27b9c08",
   "metadata": {},
   "source": [
    "## Set up variables"
   ]
  },
  {
   "cell_type": "code",
   "execution_count": 1,
   "id": "8e50b404-a061-49e7-a3c7-c6eabc98ff0f",
   "metadata": {},
   "outputs": [
    {
     "data": {
      "text/plain": [
       "True"
      ]
     },
     "execution_count": 1,
     "metadata": {},
     "output_type": "execute_result"
    }
   ],
   "source": [
    "import os\n",
    "import urllib\n",
    "import requests\n",
    "import random\n",
    "import json\n",
    "from collections import OrderedDict\n",
    "from IPython.display import display, HTML, Markdown\n",
    "from typing import List\n",
    "from operator import itemgetter\n",
    "\n",
    "# LangChain Imports needed\n",
    "from langchain_openai import AzureChatOpenAI\n",
    "from langchain_openai import AzureOpenAIEmbeddings\n",
    "from langchain_core.prompts import ChatPromptTemplate\n",
    "from langchain_core.output_parsers import StrOutputParser\n",
    "from langchain_core.retrievers import BaseRetriever\n",
    "from langchain_core.callbacks import CallbackManagerForRetrieverRun\n",
    "from langchain_core.documents import Document\n",
    "from langchain_core.runnables import ConfigurableField\n",
    "\n",
    "\n",
    "# Our own libraries needed\n",
    "from common.prompts import DOCSEARCH_PROMPT\n",
    "from common.utils import get_search_results\n",
    "\n",
    "from dotenv import load_dotenv\n",
    "load_dotenv(\"credentials.env\")"
   ]
  },
  {
   "cell_type": "code",
   "execution_count": 2,
   "id": "2f2c22f8-79ab-405c-95e8-77a1978e53bc",
   "metadata": {},
   "outputs": [],
   "source": [
    "# Setup the Payloads header\n",
    "headers = {'Content-Type': 'application/json','api-key': os.environ['AZURE_SEARCH_KEY']}\n",
    "params = {'api-version': os.environ['AZURE_SEARCH_API_VERSION']}"
   ]
  },
  {
   "cell_type": "markdown",
   "id": "9297d29b-1f61-4dce-858e-bf4272172dba",
   "metadata": {},
   "source": [
    "## Multi-Index Search queries"
   ]
  },
  {
   "cell_type": "code",
   "execution_count": 4,
   "id": "5a46e2d3-298a-4708-83de-9e108b1a117a",
   "metadata": {
    "scrolled": true,
    "tags": []
   },
   "outputs": [
    {
     "name": "stdout",
     "output_type": "stream",
     "text": [
      "[\"srch-index-usecases\", \"srch-index-csv\",\"srch-index-books\"]\n"
     ]
    }
   ],
   "source": [
    "# Text-based Indexes that we are going to query (from Notebook 01 and 02)\n",
    "index1_name = \"srch-index-books\"\n",
    "index2_name = \"srch-index-usecases\"\n",
    "indexes = os.environ['COG_INDEXES']\n",
    "print(indexes)"
   ]
  },
  {
   "cell_type": "markdown",
   "id": "1c62ebb2-d7be-4bfb-b1ba-4db86c11839a",
   "metadata": {},
   "source": [
    "Try questions that you think might be answered or addressed in computer science papers in 2020-2021 or that can be addressed by medical publications about COVID in 2020-2021. Try comparing the results with the open version of ChatGPT.<br>\n",
    "The idea is that the answers using Azure OpenAI only looks at the information contained on these publications.\n",
    "\n",
    "**Example Questions you can ask**:\n",
    "- What is CLP?\n",
    "- How Markov chains work?\n",
    "- What are some examples of reinforcement learning?\n",
    "- What are the main risk factors for Covid-19?\n",
    "- What medicine reduces inflamation in the lungs?\n",
    "- Why Covid doesn't affect kids that much compared to adults?\n",
    "- Does chloroquine really works against covid?\n",
    "- Who won the 1994 soccer world cup? # This question should yield no answer if the system is correctly grounded"
   ]
  },
  {
   "cell_type": "code",
   "execution_count": 5,
   "id": "b9b53c14-19bd-451f-aa43-7ad27ccfeead",
   "metadata": {},
   "outputs": [],
   "source": [
    "QUESTION = \" What does PL-BERT do excatly?\""
   ]
  },
  {
   "cell_type": "markdown",
   "id": "f6d925eb-7f9c-429e-a62a-4c37d7702caf",
   "metadata": {},
   "source": [
    "### Search on both indexes individually and aggragate results\n",
    "\n",
    "#### **Note**: \n",
    "In order to standarize the indexes, **there must be 6 mandatory fields present on each index**: `id, title, name, location, chunk, chunkVector`. This is so that each document can be treated the same along the code. Also, **all indexes must have a semantic configuration**.\n",
    "\n",
    "We are going to use Hybrid Queries: Text + Vector Search combined for optimal results!"
   ]
  },
  {
   "cell_type": "code",
   "execution_count": 6,
   "id": "faf2e30f-e71f-4533-ab52-27d048b80a89",
   "metadata": {},
   "outputs": [
    {
     "name": "stdout",
     "output_type": "stream",
     "text": [
      "400\n"
     ]
    },
    {
     "ename": "KeyError",
     "evalue": "'@odata.count'",
     "output_type": "error",
     "traceback": [
      "\u001b[0;31m---------------------------------------------------------------------------\u001b[0m",
      "\u001b[0;31mKeyError\u001b[0m                                  Traceback (most recent call last)",
      "Cell \u001b[0;32mIn[6], line 28\u001b[0m\n\u001b[1;32m     26\u001b[0m search_results \u001b[38;5;241m=\u001b[39m r\u001b[38;5;241m.\u001b[39mjson()\n\u001b[1;32m     27\u001b[0m agg_search_results[index]\u001b[38;5;241m=\u001b[39msearch_results\n\u001b[0;32m---> 28\u001b[0m \u001b[38;5;28mprint\u001b[39m(\u001b[38;5;124m\"\u001b[39m\u001b[38;5;124mIndex:\u001b[39m\u001b[38;5;124m\"\u001b[39m, index, \u001b[38;5;124m\"\u001b[39m\u001b[38;5;124mResults Found: \u001b[39m\u001b[38;5;132;01m{}\u001b[39;00m\u001b[38;5;124m, Results Returned: \u001b[39m\u001b[38;5;132;01m{}\u001b[39;00m\u001b[38;5;124m\"\u001b[39m\u001b[38;5;241m.\u001b[39mformat(\u001b[43msearch_results\u001b[49m\u001b[43m[\u001b[49m\u001b[38;5;124;43m'\u001b[39;49m\u001b[38;5;124;43m@odata.count\u001b[39;49m\u001b[38;5;124;43m'\u001b[39;49m\u001b[43m]\u001b[49m, \u001b[38;5;28mlen\u001b[39m(search_results[\u001b[38;5;124m'\u001b[39m\u001b[38;5;124mvalue\u001b[39m\u001b[38;5;124m'\u001b[39m])))\n",
      "\u001b[0;31mKeyError\u001b[0m: '@odata.count'"
     ]
    }
   ],
   "source": [
    "agg_search_results = dict()\n",
    "k = 10\n",
    "\n",
    "for index in indexes:\n",
    "    search_payload = {\n",
    "        \"search\": QUESTION, # Text query\n",
    "        \"select\": \"id, title, name, location, chunk\",\n",
    "        \"queryType\": \"semantic\",\n",
    "        \"vectorQueries\": [{\"text\": QUESTION, \"fields\": \"chunkVector\", \"kind\": \"text\", \"k\": k, \n",
    "                           \"threshold\": { \n",
    "                                 \"kind\": \"vectorSimilarity\", \n",
    "                                 \"value\": 0.8 \n",
    "                              }\n",
    "                          }], # Vector query\n",
    "        \"semanticConfiguration\": \"my-semantic-config\",\n",
    "        \"captions\": \"extractive\",\n",
    "        \"answers\": \"extractive\",\n",
    "        \"count\":\"true\",\n",
    "        \"top\": k\n",
    "    }\n",
    "\n",
    "    r = requests.post(os.environ['AZURE_SEARCH_ENDPOINT'] + \"/indexes/\" + index + \"/docs/search\",\n",
    "                     data=json.dumps(search_payload), headers=headers, params=params)\n",
    "    print(r.status_code)\n",
    "\n",
    "    search_results = r.json()\n",
    "    agg_search_results[index]=search_results\n",
    "    print(\"Index:\", index, \"Results Found: {}, Results Returned: {}\".format(search_results['@odata.count'], len(search_results['value'])))"
   ]
  },
  {
   "cell_type": "markdown",
   "id": "f33018be-350d-4c54-b491-a86bc1cfffb6",
   "metadata": {},
   "source": [
    "#### Important Note: \n",
    "You may encounter errors when attempting to search for results IF the indexer is still processing documents. This occurs because the embedding model is heavily utilized by the indexer, hitting its TPM quota. If you experience search errors, please try again or wait until the indexing is complete, which may take several hours."
   ]
  },
  {
   "cell_type": "code",
   "execution_count": 6,
   "id": "255c40f5-d836-480c-8c68-06a2282c8146",
   "metadata": {},
   "outputs": [
    {
     "data": {
      "text/plain": [
       "{'srch-index-csv': {'@odata.context': \"https://cog-search-ffpanhhmq7wy3.search.windows.net/indexes('srch-index-csv')/$metadata#docs(*)\",\n",
       "  '@odata.count': 1011,\n",
       "  '@search.answers': [],\n",
       "  'value': [{'@search.score': 0.03333333507180214,\n",
       "    '@search.rerankerScore': 3.151348114013672,\n",
       "    '@search.captions': [{'text': \"DB-20181219-mener-maleriet-gir-h-5. Noen preges mer av kunsten enn andre. En 70 år gammel mann ble lørdag rammet av et akutt illebefinnende i Uffizi-galleriet i Firenze, Italia. Det er uklart om det dreide seg om en hjertestans eller et hjerteinfarkt. Heldigvis for mannen var en gruppe kardiologer også på besøk i galleriet, og behandlet ham på stedet. Dette melder The Times. Etter sigende er det verken rødt kjøtt eller sigaretter som forårsaket anfallet. Tvert imot kan vi ifølge avisa skylde på renessansemaleren Sandro Botticelli, og maleriet hans «Venus' fødsel» fra 1486..\",\n",
       "      'highlights': \"DB-20181219-mener-maleriet-gir-h-5.<em> Noen preges mer av kunsten enn andre.</em> En 70 år gammel mann ble lørdag rammet av et akutt illebefinnende i Uffizi-galleriet i Firenze, Italia. Det er uklart om det dreide seg om en hjertestans eller et hjerteinfarkt. Heldigvis for mannen var en gruppe kardiologer også på besøk i galleriet, og behandlet ham på stedet. Dette melder The Times. Etter sigende er det verken rødt kjøtt eller sigaretter som forårsaket anfallet. Tvert imot kan vi ifølge avisa skylde på renessansemaleren Sandro Botticelli, og maleriet hans «Venus' fødsel» fra 1486..\"}],\n",
       "    'id': 'DB-20181219-mener-maleriet-gir-h-5',\n",
       "    'title': 'DB-20181219-mener-maleriet-gir-h-5',\n",
       "    'name': 'newspapers_online_nb',\n",
       "    'location': '2021',\n",
       "    'chunk': \"Noen preges mer av kunsten enn andre. En 70 år gammel mann ble lørdag rammet av et akutt illebefinnende i Uffizi-galleriet i Firenze, Italia. Det er uklart om det dreide seg om en hjertestans eller et hjerteinfarkt. Heldigvis for mannen var en gruppe kardiologer også på besøk i galleriet, og behandlet ham på stedet. Dette melder The Times. Etter sigende er det verken rødt kjøtt eller sigaretter som forårsaket anfallet. Tvert imot kan vi ifølge avisa skylde på renessansemaleren Sandro Botticelli, og maleriet hans «Venus' fødsel» fra 1486.\"},\n",
       "   {'@search.score': 0.012345679104328156,\n",
       "    '@search.rerankerScore': 1.2280943393707275,\n",
       "    '@search.captions': [{'text': '- Den har nok tatt seg litt opp i forhold til da plasten kom for fullt på 70-tallet Noen revolusjon til bake til slik det var tidligere blir det aldri - men trebåtene vil heller aldri blir helt borte -Folk er skremt av vedlike holdet Men var ikke det litt av sjarmen med å ha båt? ikke er noen sjarm, bare ork Og jeg tror nok at en av grunnene til at...',\n",
       "      'highlights': '- Den har nok tatt seg litt opp i forhold til da plasten kom for fullt på<em> 70-tallet Noen</em> revolusjon til bake til slik det var tidligere blir det aldri - men trebåtene vil heller aldri blir helt borte -Folk er skremt av vedlike holdet Men var ikke det litt av sjarmen med å ha båt? ikke er<em> noen</em> sjarm, bare ork Og jeg tror nok at en av grunnene til at...'}],\n",
       "    'id': 'telemarkarbeiderblad_null_null_19920826_70_197_1_MODSMD_ARTICLE111',\n",
       "    'title': 'telemarkarbeiderblad_null_null_19920826_70_197_1_MODSMD_ARTICLE111',\n",
       "    'name': 'newspaper_ocr',\n",
       "    'location': '1992',\n",
       "    'chunk': 'Hva med en trebåt til 3,6 millioner? KRAGERØ: Det har i uminnelige tider vært bygd båter på Borteid - men Kragerø Trebåtbyg geri er ikke mer enn 8-9 år gammelt. for seks mann, sier sje fen, Tore Ramberg. Men tre generasjoner er knyt ta til bedriften. Hovedtypen blant båtene som kommer fra Kragerø Trebåtbyg geri er en plattgatter i mahogny og oregon pine, og som bygges både i 25 og 26 fot. Den oppnåd de å bli kåret til «Årets båt» ved trebåtfestivalen i Risør i fjor, og året før fikk bedriften Kragerø kommunes håndverkerpris. klusiv slepejolle er også velkjente Erodukter som bygges ved båt yggeriet. Og inne i hallen er en 50 fot stor båt under bygging: Solid kundekrets - Privat, sier Ramberg. Drømmen er å få solgt en slik båt en gang, # men slik situasjonen er nå ser jeg sjansene som små. Det skal bli en kgtsjrigget klip per, som ferdig vil koste 3,6 mil lioner! Ikke så mange som satser gå det i dag, antakelig, sjøl om . høyt økonomisk nivå - og at båt byggeriet har en solid kundekrets. Frisene på båtene varierer fra 20 000 kroner til altså 3-4 millio ner. Plattgatteren på 25-26 fot kommer på 400 000-500 000 kro ner. Frisene varierer mest i for bindelse med utstyr og motor. På spørsmål om hvor båtene blir solgt svarer Ramberg; - Stort sett her i distriktet - men bare til som mergjester. som er å regne med og hvor det er ansatt folk. - Er interessen for trebåter blitt større igjen? - Den har nok tatt seg litt opp i forhold til da plasten kom for fullt på 70-tallet. Noen revolusjon til bake til slik det var tidligere blir det aldri - men trebåtene vil heller aldri blir helt borte. -Folk er skremt av vedlike holdet. Men var ikke det litt av sjarmen med å ha båt? ikke er noen sjarm, bare ork. Og jeg tror nok at en av grunnene til at vi selger så mange trebåter, er at vi tilbyr en pakke; Med i salget er adgang til opplagsplass og fer digpussa båt nver vår. De som har så mange penger, at de har råd til hytte, landsted, trebåt, har det nok også så travelt at de ikke har tid til å ta pussen og samtidig kunne nyte båtlivet to-tre uker i ferien. Det har kanskje pensjonister, sier Ramberg. EN NY PLATTGATTER: Simon Kurt Vikre jr. i arbeid på en 26 fots Classic plattgatter - det som vi vel kan kalle «flaggskipet» på Krage rø Trebåtbyggeri. FOTO:'},\n",
       "   {'@search.score': 0.013698630034923553,\n",
       "    '@search.rerankerScore': 1.1193320751190186,\n",
       "    '@search.captions': [{'text': 'Han døde litt over ett år senere, 17. februar 2021 * Koran-Burning Preacher Terry Jones and Rush Limbaugh: Class of 69, Cape Central High School Girardeau History and Photos (yearbook photos).\\x00 Da fangemishandlingen i Abu Ghraib ble kjent, uttalte Limbaugh: «Dette er ikke annerledes enn hva som skjer mai 1994 giftet Limbaugh seg med Marta Fitzgeral...',\n",
       "      'highlights': ''}],\n",
       "    'id': 'wikipedia_download_nbo_RushLimbaugh_304353',\n",
       "    'title': 'wikipedia_download_nbo_RushLimbaugh_304353',\n",
       "    'name': 'wikipedia_download_nbo',\n",
       "    'location': '2021',\n",
       "    'chunk': \"'''Rush Hudson Limbaugh III''' (født 12. januar 1951, død 17. februar 2021) var en amerikansk talkshow-vert og konservativ politisk kommentator. Limbaugh ble født inn i en familie med en lang historie og engasjement i republikansk politikk. Han begynte som tenåring å jobbe i en lokal radiostasjon, under kallenavnet Rusty Sharpe. Etter å ha hoppet av fra college, flyttet Limbaugh til Pennsylvania. I 1972 begynte han som discjockey i en liten lokal radiostasjon i Pittsburgh-området. I 1973 flyttet Limbaugh til Pittsburgh og begynte ved en annen radiostasjon. Her fikk han i slutten av 1974 sparken, da stasjonen ble solgt til Taft Broadcasting. I 1984, etter en rekke radio-relaterte jobber, begynte han som talkshow-vert ved radiostasjonen KFBK i Sacramento i California. Limbaugh flyttet til New York i 1988, der han begynte med nasjonal kringkasting i radiokanalen WABC. Sendingene hans vokste i popularitet, og han ble vert for ''The Rush Limbaugh Show'', som ble sendt over hele USA på Premiere Radio Networks. Dette ble etter hvert et av de høyest rangerte radio-programmene i USA. På 1990-tallet vokste Limbaughs berømmelse utover radio, til bøker og TV. Han ble en bestselgende forfatter med bøkene ''The Way Things Should Be'' (1992) og ''See, I Told You So'' (1993). Fra 1992 til 1996 var han vert for et 30 minutter langt talkshow på tv. Limbaugh kritiserte ofte liberale politikere og Det demokratiske partiet. I nær familie hadde han flere advokater, inkludert en bestefar, far og bror. Onkelen ble oppnevnt av Ronald Reagan til føderal dommer i Missouri. Fetteren er også dommer i den samme retten, utnevnt av daværende president George W. Bush. I 1992 ble demokraten Bill Clinton valgt til president i USA. Limbaugh latterliggjorte både politikken hans og den nye førstedamen Hillary Clinton. I 2001 innrømmet Limbaugh at han var blitt nesten helt døv, men han fortsatte likevel sitt populære radioshow. Ved hjelp av implantater fikk han igjen mye av hørselen. I 2003 arbeidet Limbaugh i en kortere periode som fotballkommentator, frem til han et par uker inn i NFL-sesongen samme år trakk seg. Limbaugh har ofte blitt brukt som stereotyp for en konservativ talkshow-vert, ikke minst i mange tv-programmer og filmer, inkludert en episode av den animerte TV-serien ''Simpsons''. Den 30. januar 2010 ble Limbaugh utnevnt til dommer for 2010 Miss America Pageant i Las Vegas. Han stiller seg kritisk til miljøvern og har bestridt at den globale oppvarmingen er menneskeskapt. Limbaugh er også kritisk til feminismen og støtter dødsstraff. Da fangemishandlingen i Abu Ghraib ble kjent, uttalte Limbaugh: «Dette er ikke annerledes enn hva som skjer under en innvielse til Skull and Bones.» Skull and Bones er et selskap for studenter ved Yale University. Fra National Association of Broadcasters ble Limbaugh tildelt Marconi Radio Award i 1992, 1995, 2000 og 2005. I 2002 rangerte ''Talkers Magazine'' ham som den største talkshow-verten på radio gjennom tidene. Limbaugh har vært gift fire ganger og har ingen barn. Han ble først gang gift i en alder av 26 år, med Roxy Maxine McNeely, en sekretær ved en radiostasjon i Kansas City i Missouri. McNeely søkte om skilsmisse i mars 1980, på grunn av «inkompatibilitet». De ble formelt skilt den 10. juli 1980. I 1983 giftet Limbaugh seg med Michelle Sixta. De tok ut skilsmisse i 1990, og hun giftet seg på nytt året etter. 27. mai 1994 giftet Limbaugh seg med Marta Fitzgerald, en 35 år gammel aerobicinstruktør han møtte i 1990. De ble skilt 11. juni 2004. Han giftet seg med Kathryn Rogers fra Florida den 5. juni 2010. I januar 2020 påviste en medisinsk undersøkelse at Limbaugh led av uhelbredelig lungekreft. Han døde litt over ett år senere, 17. februar 2021. * Koran-Burning Preacher Terry Jones and Rush Limbaugh: Class of 69, Cape Central High School Girardeau History and Photos (yearbook photos)\"},\n",
       "   {'@search.score': 0.009433962404727936,\n",
       "    '@search.rerankerScore': 1.109375,\n",
       "    '@search.captions': [{'text': 'Politiinspektør Odd Berner Malme ved politiavdelingen i Justisdepartementet har fått oversendt saken fra østerrikske myndigheter. noen opplysninger som gir grunn til å tro at historien medfører rik tighet Det er da også korrekt, som østerrikske myndigheter hevder, at laserpistolen er testet og godkjent i Norge, av Statens institutt for strålehygien...',\n",
       "      'highlights': ''}],\n",
       "    'id': 'arbeiderbladet_null_null_19920706_108_153_1_MODSMD_ARTICLE33',\n",
       "    'title': 'arbeiderbladet_null_null_19920706_108_153_1_MODSMD_ARTICLE33',\n",
       "    'name': 'newspaper_ocr',\n",
       "    'location': '1992',\n",
       "    'chunk': 'Skutt av politilaser? En lektor i Østerrike hevder å ha blitt skutt i øyet og livs varig skadet av politiets nye fartsmåler - laserpistolen. Til høsten skal norsk politi ta i bruk det nye våpenet mot fartsbøller på norske veier. BILFØREREN HEVDER at østerriksk trafikkpoliti påførte ham den skjebnesvangre øyeskaden om kvelden 8. mai i år. Ifølge sin forklaring så han at en politimann rettet laserpisto len mot bilen, hvorpå han ble rammet av et ekstremt, intensivt lys i høyre øye. En senere under søkelse hos øyelege skal ha vist at synsskaden er permanent. Stor interesse Laser-episoden har vekket stor interesse i Østerrike. Laserpisto len som ble brukt er senere blitt testet uten at det ble funnet noen feilfunksjoner. Til østerrikske medier hevder innenriksdepartementet i landet at laserpistolen er helt ufarlig. Departementet begrunner dette blant annet med at pistolen er testet og godkjent av statlige kon trollinstanser i Norge og Sverige. Politiinspektør Odd Berner Malme ved politiavdelingen i Justisdepartementet har fått oversendt saken fra østerrikske myndigheter. noen opplysninger som gir grunn til å tro at historien medfører rik tighet. Det er da også korrekt, som østerrikske myndigheter hevder, at laserpistolen er testet og godkjent i Norge, av Statens institutt for strålehygiene. - Den er også godkjent ved Statens Provningsanstalt i Sve rige. Begge instituttene har klas sifisert lasermåleren i klasse I - som helt ufarlig for mennesker. Vi har valgt den samme laserpi stolen og stoler selvfølgelig på disse instituttenes vurderinger, sier Malme. De siste månedene har Justis departementet hatt seks slike laserpistoler til utprøving i Norge, og funnet dem svært nøy aktige og anvendelige. Dette er laserpistolen en bilfø rer i Østerrike hevder å ha blitt skutt i øyet med. (Foto: NTB)'},\n",
       "   {'@search.score': 0.009803921915590763,\n",
       "    '@search.rerankerScore': 1.0419729948043823,\n",
       "    '@search.captions': [{'text': 'Det er 1,6 grader mer enn norma len Temperaturen svingte fra minus 2,4 til pluss 10,6 grader. grader ved Eigerøy fyr Tenk om vi kan få noe liknende om bare tre uker! At våren er i anmarsj, preger også barnas lekeaktivitet Det er denne sykke len som skal loddes ut til en av de bar nehagne i Eigersund som setter sykling på dagsorden. feltet har en gj...',\n",
       "      'highlights': 'Det er 1,6 grader<em> mer enn</em> norma len Temperaturen svingte fra minus 2,4 til pluss 10,6 grader. grader ved Eigerøy fyr Tenk om vi kan få noe liknende om bare tre uker! At våren er i anmarsj,<em> preger</em> også barnas lekeaktivitet Det er denne sykke len som skal loddes ut til en av de bar nehagne i Eigersund som setter sykling på dagsorden. feltet har en gj...'}],\n",
       "    'id': 'dalanetidende_null_null_20160401_132_37_1_MODSMD_ARTICLE15',\n",
       "    'title': 'dalanetidende_null_null_20160401_132_37_1_MODSMD_ARTICLE15',\n",
       "    'name': 'newspaper_ocr',\n",
       "    'location': '2016',\n",
       "    'chunk': 'Okka By —\" Det er fortsatt noen som åpenbart tror at julen varer helt til påske. Globen som ble satt opp over lekeplassen på Torget i forbindelse med Julebyen i desember, har nemlig blitt stående til over påske. Det betyr at den eneste lekeplassen i dette området ikke har vært tilgjengelig i de snart fire månedene som har gått siden Julebyen ble avsluttet. Mange, både små og store, har fornndret og irritert seg over dette. Etter at forholdet forleden ble på pekt på Facebook, har ordføreren lovet å ordne opp. Det oppsiktsvekkende er at de ansvarlige i kommunen som jevnlig ferdes i området, ikke har tatt affære før. avstengt lekeplassområde. Tradisjonen med musikk på taket av Roberg-bygget 1. påskedag klokka 08.00 bør imidlertid vi dereføres. I år er det 80 år siden Egersund Musikkorps spilte for første gang på dette taket. fått hyggelig assistanse av to musikanter fra Misjonskorpset. Dersom noen mener å ha registrert at det ikke bare var påskemusikk, men også påskesang i Egersund sentrum 1. påskedag, så er det en riktig observasjon. Etter en flott og godt besøkt gudstjeneste i Egersund kirke gikk de frammøtte ut på kirkebakken, hvor samlingen ble avslut tet med påskesang og velsignelse. Under gudstjenesten ble det også innviet en ny messehagel, som er innkjøpt for en pengegåve etter nedleggelsen av Losje Varberg. måneden vi nå har lagt bak oss. Det har heller ikke regnet spesielt mye i årets tredje måned. Nedbørsmengden i mars ble summert til 90,3 millimeter. Norma len for denne måneden er 94,6 millimeter. De to foregående årene har det imidlertid regnet nesten dobbelt så mye i mars. Nok en gang har vi lagt bak oss en måned med høyere snittemperatur enn det som er normalt. Snittemperaturen ved målestasjonen nær Eigerøy fyr var på 3,9 grader. Det er 1,6 grader mer enn norma len. Temperaturen svingte fra minus 2,4 til pluss 10,6 grader. grader ved Eigerøy fyr. Tenk om vi kan få noe liknende om bare tre uker! At våren er i anmarsj, preger også barnas lekeaktivitet. Det er denne sykke len som skal loddes ut til en av de bar nehagne i Eigersund som setter sykling på dagsorden. feltet har en gjeng 10-12 åringer bygget ei tert ringeklokke. Sebastian Aamodt, Julie flott hytte i trærne. Hytta er møblert og Aamodt, Linnea Leidland, Vetle Leidland utstyrt med belysning. Sebastian Aamodt (til venstre) og Vetle Leidland utenfor den imponerende hytta de har laget sammen med gode medarbeidere.'},\n",
       "   {'@search.score': 0.013888888992369175,\n",
       "    '@search.rerankerScore': 1.021292805671692,\n",
       "    '@search.captions': [{'text': 'Om noen får tårer i øynene ved synet av gamle støvler, får andre sikkert vann i munnen ved synet av Finsbråtens pølser med tilhørende beholder Fotball og varme pølser hører fortsatt sammen Akkurat på det området har ikke verden foran dret seg. kjell.aasum@rb TOM OG HALLVAR: Tom Lund og Hallvar Thoresen står side om side i «Stjernegalleriet» Figuren...',\n",
       "      'highlights': 'Om<em> noen</em> får tårer i øynene ved synet av gamle støvler, får<em> andre</em> sikkert vann i munnen ved synet av Finsbråtens pølser med tilhørende beholder Fotball og varme pølser hører fortsatt sammen Akkurat på det området har ikke verden foran dret seg. kjell.aasum@rb TOM OG HALLVAR: Tom Lund og Hallvar Thoresen står side om side i<em> «Stjernegalleriet»</em> Figuren...'}],\n",
       "    'id': 'romerikesblad_null_null_20040704_103_175_1_MODSMD_ARTICLE68',\n",
       "    'title': 'romerikesblad_null_null_20040704_103_175_1_MODSMD_ARTICLE68',\n",
       "    'name': 'newspaper_ocr',\n",
       "    'location': '2004',\n",
       "    'chunk': '«Vi gir alt, alt for Norge», drønner det ira høyttalerne i den vesle kinosalen på FotbaUmuseet. Nils Johan Semb fremdeles som landslagssjef, men det er vel også eneste nødvendige oppdatering i «Det kuleste museet i Oslo», ifølge en kåring foretatt av Aftenposten. -1 løpet av kort tid kommer en ny film på plass. Der spiller Åge Harei de hovedrollen, forklarer omviser Møyfrid Pedersen. FotbaUmuseet i Ullevaal-komp lekset venter seg 30.000 besøkende i år. Den mest hektiske perioden er like før og under Norway Cup. - Svært mange av de besøkende er nemlig unge spillere og deres le dere, men akkurat nå er det først og fremst ferierende familier som tråkker rundt og koser seg hos oss. De fleste bruker omkring tre kvar ter på en gjennomgang. Den største målgruppa er gutter og jenter mellom åtte og 15 år, og Norges Fotballforbund synes at ste det er mer opplevelsessenter enn museum. Det stemmer! - Hva fenger mest? - De yngste tilbringer mye tid i spillerommet, enkelte må nesten bæres ut derfrå! drabantbyer som løper rundt i loka let på kryss og tvers, på leting etter 12 riktige svar i «Tipp & vinn». - Alle som besøker museet kan delta i vår faste tippekonkurranse, der 10,11 og 12 rette premieres. Tre av spørsmålene på denne da gens kupong lyder slik: «Hvem la pasningen til Kjetil Rekdal da han lagde Norges eneste mål i VM-sluttspillet i 1994?» «Mot hvilken nasjon scoret Jan Åge Fjørtoft sitt første mål i en VM kvalifiseringskamp?» «Hvilke to brødre er de eneste som har scoret mål i samme A landskamp?» Om du blir skremt over vanske lighetsgraden, kan det være greit å ha tre alternative svar å velge mel lom. En annen akti vitet som fenger * er «Prøv deg som dommer», ! med små video snutter og nøtter som skal besva res. presentert temavis og svært så godt tilgjengelig. Det er bare å trykke seg fram til ønsket arena. De besøkende får vite at Vito fra Eidsvoll spilte den første juniorfi nalen i fotball mot Skeid i 1953. Vå re lokale helter tapte riktig nok 2-6, men de spilte seg i hvert fall inn i historiebøkene! Og de kan lese at britene lanserte de første og grunnleggende reglene så langt tilbake i tid som i 1863. Først 12 år senere ble tauet erstattet med tverrligger, og det var i 1878 at dommerne tok i bruk fløyte. Hjør nesparket ble introdusert i 1872. Også videre... Den første fotballkampen på norsk jord ble spilt i 1886. Men det tok sannelig tid før landslaget vant en kamp. Ti år! Ballen fra seierskampen på Frogner |i stadion i 1918 er selvsagt å ■ finne i en glassmonter her. ■ Sportslige høydepunk- I ter er i hele tatt viet stor I oppmerksomhet, med ge- I nuine opptak fra så vel I radio som fjernsyn. mest blant de besøkende. Alle må ha med seg det, der Arne Scheie, opprinnelig frå Skedsmo, bobler over av entusiasme. Scheie, ja. Han har også fått æren av å presentere alle dem som er fun net verdig en plass blant figurene i «Stjernegalleriet». Tom Lund, Hege Riise og Hen ning Berg er den lokale trioen i det fornemme galleriet. Hallvar Thore sen og Marianne Pettersen er også med her, men de er ikke fullblods romerikinger. Vi mente også å dra kjensel på Erik Soler, men det viste seg å være Arne Brustad, måltyven fra Lyn på 1930- og 1940-tallet. Selvsagt er landslagets gullalder med Egil Olsen som suksesstrener nøyt verdsatt. Seiv landslagssjefens berømte gummistøvler finnes be vart her, oppstilt på en benk uten for et spesialbygget fly, «Drillo-fly et» fra 1990-tallet. Gulljentene fra OL i 2000 får også mye blest. Den organiserte kvinne fotballen er bare 25 år gammel, men har fått den oppmerksomheten den fortjener. Og takk for det. Av bedre nostalgia finnes siga rettkort med gamle stjernespillere, drakter, fotballer, programmer og ikke minst tidligere tiders støvler. Seiv drømte vi oss tilbake til Årnes stadion og lilleputtfotball på 1960- tallet ved synet av «Vikings gum mi». Konkurrenten «Romika» var ikke verken like tøff eller god å ha på foten. Om noen får tårer i øynene ved synet av gamle støvler, får andre sikkert vann i munnen ved synet av Finsbråtens pølser med tilhørende beholder. Fotball og varme pølser hører fortsatt sammen. Akkurat på det området har ikke verden foran dret seg. kjell.aasum@rb. TOM OG HALLVAR: Tom Lund og Hallvar Thoresen står side om side i «Stjernegalleriet». Figurene er i plastikk. STØVLER: Museet viser ikke bare fotbal støvler, men også Drillos «pæler». OPPLEVELSE: Håkon Lunde Hansen synes det er gøy å bli avbildet sam men med John Carew. På «lissom». SPILL: Benjamin og Andreas slo seg riktig løs i avdeling PlayStation. 1998: I denne drakta og med disse støvlene scoret Kjetil Rekdal mot Brasil i 1998-VM.'},\n",
       "   {'@search.score': 0.01587301678955555,\n",
       "    '@search.rerankerScore': 1.0136334896087646,\n",
       "    '@search.captions': [{'text': 'OSLO: En 54 år gammel mann fra Fredrikstad slipper fengsels straff seiv om han har innrømmet å ha å ha smuglet ni kilo hasj til Norge fra Spania I stedet ble han idømt 360 dagers samfunnste neste som vaktmester - Jeg vil nødig kommentere rettens argumenter for å idømme samfunnsteneste, men ut fra til talens alvorlige omfang er det ing en tvil om at...',\n",
       "      'highlights': ''}],\n",
       "    'id': 'tidenskrav_null_null_19990301_90_50_1_MODSMD_ARTICLE17',\n",
       "    'title': 'tidenskrav_null_null_19990301_90_50_1_MODSMD_ARTICLE17',\n",
       "    'name': 'newspaper_ocr',\n",
       "    'location': '1999',\n",
       "    'chunk': 'OSLO: En 54 år gammel mann fra Fredrikstad slipper fengsels straff seiv om han har innrømmet å ha å ha smuglet ni kilo hasj til Norge fra Spania. I stedet ble han idømt 360 dagers samfunnste neste som vaktmester. - Jeg vil nødig kommentere rettens argumenter for å idømme samfunnsteneste, men ut fra til talens alvorlige omfang er det ing en tvil om at dommen er meget oppsiktsvekkende, sier Elisabeth Gorgas til Fredrikstad Blad. Hun var aktor i saken mot hasjkure ren. 54-åringen har 20 tidligere dommer, men er i en rehabilite ringsfase. Det mente sakens to meddommere måtte veie tyngst når straffen skulle utmåles. «Seiv om det nå er gått over ett og et halvt år siden forbrytelsen, og tiltalte i denne perioden har vist klare tegn til rehabilitering, finner rettens mindretall at det her er snakk om en så grov for brytelse at straffen må være ve sentlig strengere enn 360 timers samfunnsteneste», heter det i dommen. Promillekjøring? En mann fra Averøy er mistenkt for promillekjøring, etter at han natt til lørdag ble stanset på Kår våg. Alkotesten ga utslag, og der med måtte mannen bli med til blodprøve.'},\n",
       "   {'@search.score': 0.015625,\n",
       "    '@search.rerankerScore': 1.0136334896087646,\n",
       "    '@search.captions': [{'text': 'Les mer: Politiet mener kvinnen inngikk en avtale med kjæresten (18) Den 8. august i år ble kvinnens ektefelle funnet død i innsjøen Hjälmaren utenfor Arboga i Västmanland i Sør-Sverige Politiet mistenker at han kan ha blitt drept Få dager tidligere ble kvinnens far funnet død og moren skadd i familiens sommerhus i Arboga Kvinnen og mannen ble pågr...',\n",
       "      'highlights': 'Les mer: Politiet mener<em> kvinnen</em> inngikk en avtale med kjæresten (18) Den 8. august i år ble<em> kvinnens</em> ektefelle funnet død i innsjøen Hjälmaren utenfor Arboga i Västmanland i Sør-Sverige Politiet mistenker at han kan ha blitt drept Få dager tidligere ble<em> kvinnens</em> far funnet død og moren skadd i familiens sommerhus i Arboga<em> Kvinnen</em> og mannen ble pågr...'}],\n",
       "    'id': 'VG-20161209-sommerstuga-drapet-k-5',\n",
       "    'title': 'VG-20161209-sommerstuga-drapet-k-5',\n",
       "    'name': 'newspapers_online_nb',\n",
       "    'location': '2021',\n",
       "    'chunk': 'Kvinnen er nå siktet for å ha injisert ektemannen sin med gift under en ferietur i Egypt i 2015, skriver den svenske avisen VLT. Han ble senere samme år funnet død i en innsjø i Sverige. Etterforskningsleder Johan Fahlander vil ikke kommentere saken utover at kvinnen er siktet for ytterligere et straffbart forhold. En av mannens slektninger har tidligere fortalt Aftonbladet at mannen trodde kvinnen injiserte ham med gift. – Han var alltid veldig redd og han visste ikke hvordan hun hadde gjort det, men han oppdaget et nålestikk i armen. Jeg møtte han da han kom hjem og armen var hovnet opp og nålestikkene var tydelige, uttalte slektningen. Den 41 år gamle kvinnen og en 18 år gammel mann er fra før siktet for å ha drept kvinnens far og for å ha forsøkt å drepe kvinnens mor i et sommerhus ved innsjøen Hjälmaren i august i år. Les mer: Politiet mener kvinnen inngikk en avtale med kjæresten (18) Den 8. august i år ble kvinnens ektefelle funnet død i innsjøen Hjälmaren utenfor Arboga i Västmanland i Sør-Sverige. Politiet mistenker at han kan ha blitt drept. Få dager tidligere ble kvinnens far funnet død og moren skadd i familiens sommerhus i Arboga. Kvinnen og mannen ble pågrepet i Trondheim 30. august i år og ble varetektsfengslet i Västmanlands tingrett. fredag 2. september.'},\n",
       "   {'@search.score': 0.009615384973585606,\n",
       "    '@search.rerankerScore': 1.0021445751190186,\n",
       "    '@search.captions': [{'text': 'Dette skjedde trolig i sluttfasen av pengetyvenes arbeid, fordi materialet i og rundt miniban ken ble overopphetet av den vel dige varmen fra skjærebrenne ren eller vinkelsliperen Det gamle banklokalet er påført store ødeleggelser Mini banken er skaret i stykker og materialer inne i det gamle banklokalet er nedbrent og til sotet Politiet ønsker tip...',\n",
       "      'highlights': ''}],\n",
       "    'id': 'mossavis_null_null_20001214_124_332_1_MODSMD_ARTICLE24',\n",
       "    'title': 'mossavis_null_null_20001214_124_332_1_MODSMD_ARTICLE24',\n",
       "    'name': 'newspaper_ocr',\n",
       "    'location': '2000',\n",
       "    'chunk': \"DnB tømt for 500. Dnß's minibank i Vestby sentrum ble tømt for over 500.000 kroner i morgentimene i går. To menn forsvant med utbyttet i en sølvgrå Audi A 6 stasjonsvogn. Menne ble observert av flere vitner. nedlagt 27. oktober i år. Siden da har lokalene stått tomme. Der imot har den gjenstående mini banken vært flittig benyttet. Mennene skal ha slått seg gjennom vinduet ved 04.30- tiden til det gamle banklokalet og gikk løs på minibanken med vinkelsliper eller skjærebren ner. Brann i lokalet Under dette arbeidet oppsto det en veldig varme- og røykutvik ling som endte i brann inne i det tidligere banklokalet. Men nene fikk likevel med seg sed delkassettene fra minibanken. Noen seddelkassetter ble senere funnet tomme på gamle E 6 på strekningene Vestby- Såner og Sånér-Ringvoll. Flere kassetter er fortsatt ikke fun net. Politiadjutant Knut Inge Sta vang ved Follo politistasjon opplyser at det var vitner som meldte fra til politiet om hen delsen. Disse observerte to menn nær minibanken. Brannalarmen utløst Før dette ble brannalarmen utløst inne i lokalet. Dette skjedde trolig i sluttfasen av pengetyvenes arbeid, fordi materialet i og rundt miniban ken ble overopphetet av den vel dige varmen fra skjærebrenne ren eller vinkelsliperen. Det gamle banklokalet er påført store ødeleggelser. Mini banken er skaret i stykker og materialer inne i det gamle banklokalet er nedbrent og til sotet. Politiet ønsker tips om alle Audi A 6 stasjonsvogner som er observert i området rundt mini banken i tidsrommet fra mid natt og frem til timene etter «brekket». Bilen var av nyere modell. Størrelsen på utbyttet er ikke klarlagt. Men det handler om et beløp i størrelsesorden over 500.000 kroner. Trolig maskert Vitner som har iakttatt menne ne har sett dem på lang avstand. De har opplyst at mennene var mørkt kledd, at det kan ha vært flere enn to personer nær ban ken, og at to personer trolig var maskert. Mennene ble videofil met. Gårsdagens minibank- ran inngår i rekken av svært mange de par siste årene. Samme frem gangsmåte har vært benyttet på Vinterbro, i Drøbak, Enebakk og Oslo-området - for å nevne noen tilfeller. I henimot alle til feller har pengetyvene benyttet stjålne Audi A 6 stasjonsvogner. Seddelkassetter - Vi antar at gjerningsmennene har kastet fra seg flere seddel kassetter til minibanken og ber om at politiet blir kontaktet når disse blir funnet, sier Stavang. Kassettene er merket med Dnß. Vestby lensmannskontor har fått assistanse av Kripos i for bindelse med etterforskningen. knut.elling.johansen@moss-avis. Dette er minibanken på innsiden - etter at den er skaret opp. Kripos bistår det lokale politi i etter forsk- ningen. Herforan vinduet tyvene slo seg gjennom fora komme inn til miniban ken.\"},\n",
       "   {'@search.score': 0.010416666977107525,\n",
       "    '@search.rerankerScore': 0.9768688082695007,\n",
       "    '@search.captions': [{'text': '- Snart reiser jeg og kona på sykkeltur til Bornholm sammen med to andre vennepar Hva jeg gjør etterpå er jeg ikke sikker på Men jeg er en aktiv mann og kla rer nok ikke sitte i ro for lenge - Jobben er forsåvidt den sam me, fange kjeltringen Men dagens kriminelle er mer profesjonelle, og de har mer våpen og teknologi - Vil bli savnet Etterforstoni...',\n",
       "      'highlights': '- Snart reiser jeg og kona på sykkeltur til Bornholm sammen med to<em> andre</em> vennepar Hva jeg gjør etterpå er jeg ikke sikker på Men jeg er en aktiv<em> mann</em> og kla rer nok ikke sitte i ro for lenge - Jobben er forsåvidt den sam me, fange kjeltringen Men dagens kriminelle er mer profesjonelle, og de har mer våpen og teknologi - Vil bli savnet Etterforstoni...'}],\n",
       "    'id': 'sandnesposten_null_null_20100629_21_49_1_MODSMD_ARTICLE39',\n",
       "    'title': 'sandnesposten_null_null_20100629_21_49_1_MODSMD_ARTICLE39',\n",
       "    'name': 'newspaper_ocr',\n",
       "    'location': '2010',\n",
       "    'chunk': \"Knoph smiler mye. Han er godt likt på huset. Mange kommer innom for å ta farvel. - Per (Knoph) er en veldig so sial person. Vi'kommer til å savne ham. Hver dag har vi lest avisene sammen, forteller Nina Rasmus sen Sandve. - Jeg ville takke for meg, og nå har jeg fått mange svar. Flere enn forventet. Knoph bor på Ålgård, er gift og har to voksne barn. Hvorfor han ble politimann er ikke lett å svare på. - Som de fleste gutter drømte jeg om å bh politimann, og plut selig ble det bare slik. Den pensjonerte politiman nen er ikke helt sikker på hva han vil finne på videre. - Snart reiser jeg og kona på sykkeltur til Bornholm sammen med to andre vennepar. Hva jeg gjør etterpå er jeg ikke sikker på. Men jeg er en aktiv mann og kla rer nok ikke sitte i ro for lenge. - Jobben er forsåvidt den sam me, fange kjeltringen Men dagens kriminelle er mer profesjonelle, og de har mer våpen og teknologi. - Vil bli savnet Etterforstoningsleder Magnar Het land sier han vil savne sin stedfor treder. - Jeg har kjent Per (Knoph) si den siste halvdel av 1970-tallet. Vi har jobbet mye sammen siden 1990-tallet. Han er utrolig dyktig faglig, har godt humør, sosial og alltid glimt i øyet. Han vil bli sav net på huset, sier Hetland. Bjørn Hermansen vil ta over stillingen til Knoph.\"}]}}"
      ]
     },
     "execution_count": 6,
     "metadata": {},
     "output_type": "execute_result"
    }
   ],
   "source": [
    "agg_search_results"
   ]
  },
  {
   "cell_type": "markdown",
   "id": "b7fd0fe5-4ee0-42e2-a920-72b93a407389",
   "metadata": {
    "tags": []
   },
   "source": [
    "### Display the top results (from both searches) based on the score"
   ]
  },
  {
   "cell_type": "code",
   "execution_count": 7,
   "id": "9e938337-602d-4b61-8141-b8c92a5d91da",
   "metadata": {},
   "outputs": [
    {
     "data": {
      "text/html": [
       "<h4>Top Answers</h4>"
      ],
      "text/plain": [
       "<IPython.core.display.HTML object>"
      ]
     },
     "metadata": {},
     "output_type": "display_data"
    },
    {
     "name": "stdout",
     "output_type": "stream",
     "text": [
      "\n",
      "\n",
      "\n"
     ]
    },
    {
     "data": {
      "text/html": [
       "<h4>Top Results</h4>"
      ],
      "text/plain": [
       "<IPython.core.display.HTML object>"
      ]
     },
     "metadata": {},
     "output_type": "display_data"
    },
    {
     "data": {
      "text/html": [
       "<h5><a href=\"2021sv=2022-11-02&ss=bfqt&srt=sco&sp=rwdlacupiytfx&se=2024-09-19T15:56:50Z&st=2024-09-12T07:56:50Z&spr=https,http&sig=58L%2FTEjMFajQDeoAbH7R5UkwuTxllvEoHpsANoFhmeU%3D\">DB-20181219-mener-maleriet-gir-h-5</a> - score: 3.15</h5>"
      ],
      "text/plain": [
       "<IPython.core.display.HTML object>"
      ]
     },
     "metadata": {},
     "output_type": "display_data"
    },
    {
     "data": {
      "text/html": [
       "DB-20181219-mener-maleriet-gir-h-5. Noen preges mer av kunsten enn andre. En 70 år gammel mann ble lørdag rammet av et akutt illebefinnende i Uffizi-galleriet i Firenze, Italia. Det er uklart om det dreide seg om en hjertestans eller et hjerteinfarkt. Heldigvis for mannen var en gruppe kardiologer også på besøk i galleriet, og behandlet ham på stedet. Dette melder The Times. Etter sigende er det verken rødt kjøtt eller sigaretter som forårsaket anfallet. Tvert imot kan vi ifølge avisa skylde på renessansemaleren Sandro Botticelli, og maleriet hans «Venus' fødsel» fra 1486.."
      ],
      "text/plain": [
       "<IPython.core.display.HTML object>"
      ]
     },
     "metadata": {},
     "output_type": "display_data"
    },
    {
     "data": {
      "text/html": [
       "<h5><a href=\"1992sv=2022-11-02&ss=bfqt&srt=sco&sp=rwdlacupiytfx&se=2024-09-19T15:56:50Z&st=2024-09-12T07:56:50Z&spr=https,http&sig=58L%2FTEjMFajQDeoAbH7R5UkwuTxllvEoHpsANoFhmeU%3D\">telemarkarbeiderblad_null_null_19920826_70_197_1_MODSMD_ARTICLE111</a> - score: 1.23</h5>"
      ],
      "text/plain": [
       "<IPython.core.display.HTML object>"
      ]
     },
     "metadata": {},
     "output_type": "display_data"
    },
    {
     "data": {
      "text/html": [
       "- Den har nok tatt seg litt opp i forhold til da plasten kom for fullt på 70-tallet Noen revolusjon til bake til slik det var tidligere blir det aldri - men trebåtene vil heller aldri blir helt borte -Folk er skremt av vedlike holdet Men var ikke det litt av sjarmen med å ha båt? ikke er noen sjarm, bare ork Og jeg tror nok at en av grunnene til at..."
      ],
      "text/plain": [
       "<IPython.core.display.HTML object>"
      ]
     },
     "metadata": {},
     "output_type": "display_data"
    },
    {
     "data": {
      "text/html": [
       "<h5><a href=\"2021sv=2022-11-02&ss=bfqt&srt=sco&sp=rwdlacupiytfx&se=2024-09-19T15:56:50Z&st=2024-09-12T07:56:50Z&spr=https,http&sig=58L%2FTEjMFajQDeoAbH7R5UkwuTxllvEoHpsANoFhmeU%3D\">wikipedia_download_nbo_RushLimbaugh_304353</a> - score: 1.12</h5>"
      ],
      "text/plain": [
       "<IPython.core.display.HTML object>"
      ]
     },
     "metadata": {},
     "output_type": "display_data"
    },
    {
     "data": {
      "text/html": [
       "Han døde litt over ett år senere, 17. februar 2021 * Koran-Burning Preacher Terry Jones and Rush Limbaugh: Class of 69, Cape Central High School Girardeau History and Photos (yearbook photos).\u0000 Da fangemishandlingen i Abu Ghraib ble kjent, uttalte Limbaugh: «Dette er ikke annerledes enn hva som skjer mai 1994 giftet Limbaugh seg med Marta Fitzgeral..."
      ],
      "text/plain": [
       "<IPython.core.display.HTML object>"
      ]
     },
     "metadata": {},
     "output_type": "display_data"
    },
    {
     "data": {
      "text/html": [
       "<h5><a href=\"1992sv=2022-11-02&ss=bfqt&srt=sco&sp=rwdlacupiytfx&se=2024-09-19T15:56:50Z&st=2024-09-12T07:56:50Z&spr=https,http&sig=58L%2FTEjMFajQDeoAbH7R5UkwuTxllvEoHpsANoFhmeU%3D\">arbeiderbladet_null_null_19920706_108_153_1_MODSMD_ARTICLE33</a> - score: 1.11</h5>"
      ],
      "text/plain": [
       "<IPython.core.display.HTML object>"
      ]
     },
     "metadata": {},
     "output_type": "display_data"
    },
    {
     "data": {
      "text/html": [
       "Politiinspektør Odd Berner Malme ved politiavdelingen i Justisdepartementet har fått oversendt saken fra østerrikske myndigheter. noen opplysninger som gir grunn til å tro at historien medfører rik tighet Det er da også korrekt, som østerrikske myndigheter hevder, at laserpistolen er testet og godkjent i Norge, av Statens institutt for strålehygien..."
      ],
      "text/plain": [
       "<IPython.core.display.HTML object>"
      ]
     },
     "metadata": {},
     "output_type": "display_data"
    },
    {
     "data": {
      "text/html": [
       "<h5><a href=\"2016sv=2022-11-02&ss=bfqt&srt=sco&sp=rwdlacupiytfx&se=2024-09-19T15:56:50Z&st=2024-09-12T07:56:50Z&spr=https,http&sig=58L%2FTEjMFajQDeoAbH7R5UkwuTxllvEoHpsANoFhmeU%3D\">dalanetidende_null_null_20160401_132_37_1_MODSMD_ARTICLE15</a> - score: 1.04</h5>"
      ],
      "text/plain": [
       "<IPython.core.display.HTML object>"
      ]
     },
     "metadata": {},
     "output_type": "display_data"
    },
    {
     "data": {
      "text/html": [
       "Det er 1,6 grader mer enn norma len Temperaturen svingte fra minus 2,4 til pluss 10,6 grader. grader ved Eigerøy fyr Tenk om vi kan få noe liknende om bare tre uker! At våren er i anmarsj, preger også barnas lekeaktivitet Det er denne sykke len som skal loddes ut til en av de bar nehagne i Eigersund som setter sykling på dagsorden. feltet har en gj..."
      ],
      "text/plain": [
       "<IPython.core.display.HTML object>"
      ]
     },
     "metadata": {},
     "output_type": "display_data"
    },
    {
     "data": {
      "text/html": [
       "<h5><a href=\"2004sv=2022-11-02&ss=bfqt&srt=sco&sp=rwdlacupiytfx&se=2024-09-19T15:56:50Z&st=2024-09-12T07:56:50Z&spr=https,http&sig=58L%2FTEjMFajQDeoAbH7R5UkwuTxllvEoHpsANoFhmeU%3D\">romerikesblad_null_null_20040704_103_175_1_MODSMD_ARTICLE68</a> - score: 1.02</h5>"
      ],
      "text/plain": [
       "<IPython.core.display.HTML object>"
      ]
     },
     "metadata": {},
     "output_type": "display_data"
    },
    {
     "data": {
      "text/html": [
       "Om noen får tårer i øynene ved synet av gamle støvler, får andre sikkert vann i munnen ved synet av Finsbråtens pølser med tilhørende beholder Fotball og varme pølser hører fortsatt sammen Akkurat på det området har ikke verden foran dret seg. kjell.aasum@rb TOM OG HALLVAR: Tom Lund og Hallvar Thoresen står side om side i «Stjernegalleriet» Figuren..."
      ],
      "text/plain": [
       "<IPython.core.display.HTML object>"
      ]
     },
     "metadata": {},
     "output_type": "display_data"
    },
    {
     "data": {
      "text/html": [
       "<h5><a href=\"1999sv=2022-11-02&ss=bfqt&srt=sco&sp=rwdlacupiytfx&se=2024-09-19T15:56:50Z&st=2024-09-12T07:56:50Z&spr=https,http&sig=58L%2FTEjMFajQDeoAbH7R5UkwuTxllvEoHpsANoFhmeU%3D\">tidenskrav_null_null_19990301_90_50_1_MODSMD_ARTICLE17</a> - score: 1.01</h5>"
      ],
      "text/plain": [
       "<IPython.core.display.HTML object>"
      ]
     },
     "metadata": {},
     "output_type": "display_data"
    },
    {
     "data": {
      "text/html": [
       "OSLO: En 54 år gammel mann fra Fredrikstad slipper fengsels straff seiv om han har innrømmet å ha å ha smuglet ni kilo hasj til Norge fra Spania I stedet ble han idømt 360 dagers samfunnste neste som vaktmester - Jeg vil nødig kommentere rettens argumenter for å idømme samfunnsteneste, men ut fra til talens alvorlige omfang er det ing en tvil om at..."
      ],
      "text/plain": [
       "<IPython.core.display.HTML object>"
      ]
     },
     "metadata": {},
     "output_type": "display_data"
    },
    {
     "data": {
      "text/html": [
       "<h5><a href=\"2021sv=2022-11-02&ss=bfqt&srt=sco&sp=rwdlacupiytfx&se=2024-09-19T15:56:50Z&st=2024-09-12T07:56:50Z&spr=https,http&sig=58L%2FTEjMFajQDeoAbH7R5UkwuTxllvEoHpsANoFhmeU%3D\">VG-20161209-sommerstuga-drapet-k-5</a> - score: 1.01</h5>"
      ],
      "text/plain": [
       "<IPython.core.display.HTML object>"
      ]
     },
     "metadata": {},
     "output_type": "display_data"
    },
    {
     "data": {
      "text/html": [
       "Les mer: Politiet mener kvinnen inngikk en avtale med kjæresten (18) Den 8. august i år ble kvinnens ektefelle funnet død i innsjøen Hjälmaren utenfor Arboga i Västmanland i Sør-Sverige Politiet mistenker at han kan ha blitt drept Få dager tidligere ble kvinnens far funnet død og moren skadd i familiens sommerhus i Arboga Kvinnen og mannen ble pågr..."
      ],
      "text/plain": [
       "<IPython.core.display.HTML object>"
      ]
     },
     "metadata": {},
     "output_type": "display_data"
    },
    {
     "data": {
      "text/html": [
       "<h5><a href=\"2000sv=2022-11-02&ss=bfqt&srt=sco&sp=rwdlacupiytfx&se=2024-09-19T15:56:50Z&st=2024-09-12T07:56:50Z&spr=https,http&sig=58L%2FTEjMFajQDeoAbH7R5UkwuTxllvEoHpsANoFhmeU%3D\">mossavis_null_null_20001214_124_332_1_MODSMD_ARTICLE24</a> - score: 1.0</h5>"
      ],
      "text/plain": [
       "<IPython.core.display.HTML object>"
      ]
     },
     "metadata": {},
     "output_type": "display_data"
    },
    {
     "data": {
      "text/html": [
       "Dette skjedde trolig i sluttfasen av pengetyvenes arbeid, fordi materialet i og rundt miniban ken ble overopphetet av den vel dige varmen fra skjærebrenne ren eller vinkelsliperen Det gamle banklokalet er påført store ødeleggelser Mini banken er skaret i stykker og materialer inne i det gamle banklokalet er nedbrent og til sotet Politiet ønsker tip..."
      ],
      "text/plain": [
       "<IPython.core.display.HTML object>"
      ]
     },
     "metadata": {},
     "output_type": "display_data"
    }
   ],
   "source": [
    "display(HTML('<h4>Top Answers</h4>'))\n",
    "\n",
    "for index,search_results in agg_search_results.items():\n",
    "\n",
    "    for result in search_results['@search.answers']:\n",
    "        if result['score'] > 0.5: # Show answers that are at least 50% of the max possible score=1\n",
    "            display(HTML('<h5>' + 'Answer - score: ' + str(round(result['score'],2)) + '</h5>'))\n",
    "            display(HTML(result['text']))\n",
    "\n",
    "            \n",
    "print(\"\\n\\n\")\n",
    "display(HTML('<h4>Top Results</h4>'))\n",
    "\n",
    "content = dict()\n",
    "ordered_content = OrderedDict()\n",
    "\n",
    "\n",
    "for index,search_results in agg_search_results.items():\n",
    "    for result in search_results['value']:\n",
    "        if result['@search.rerankerScore'] > 1:# Show answers that are at least 25% of the max possible score=4\n",
    "            content[result['id']]={\n",
    "                                    \"title\": result['title'],\n",
    "                                    \"chunk\": result['chunk'], \n",
    "                                    \"name\": result['name'], \n",
    "                                    \"location\": result['location'] ,\n",
    "                                    \"caption\": result['@search.captions'][0]['text'],\n",
    "                                    \"score\": result['@search.rerankerScore'],\n",
    "                                    \"index\": index\n",
    "                                    }\n",
    "    \n",
    "#After results have been filtered we will Sort and add them as an Ordered list\\n\",\n",
    "for id in sorted(content, key= lambda x: content[x][\"score\"], reverse=True):\n",
    "    ordered_content[id] = content[id]\n",
    "    url = str(ordered_content[id]['location']) + os.environ['BLOB_SAS_TOKEN']\n",
    "    title = str(ordered_content[id]['title']) if (ordered_content[id]['title']) else ordered_content[id]['name']\n",
    "    score = str(round(ordered_content[id]['score'],2))\n",
    "    display(HTML('<h5><a href=\"'+ url + '\">' + title + '</a> - score: '+ score + '</h5>'))\n",
    "    display(HTML(ordered_content[id]['caption']))"
   ]
  },
  {
   "cell_type": "markdown",
   "id": "52a6d3e6-afb2-4fa7-96d3-69bc2373ded5",
   "metadata": {},
   "source": [
    "### Comments on Query results"
   ]
  },
  {
   "cell_type": "markdown",
   "id": "84e02227-6a92-4944-86f8-6c1e38d90fe4",
   "metadata": {},
   "source": [
    "As seen above the semantic re-ranking feature of Azure AI Search service is good. It gives answers (sometimes) and also the top results with the corresponding file and the paragraph where the answers is possible located.\n",
    "\n",
    "Let's see if we can make this better with Azure OpenAI"
   ]
  },
  {
   "cell_type": "markdown",
   "id": "8df3e6d4-9a09-4b0f-b328-238738ccfaec",
   "metadata": {},
   "source": [
    "# Using Azure OpenAI\n",
    "\n",
    "To use OpenAI to get a better answer to our question, the thought process is simple: let's **give the answer and the content of the documents from the search result to the GPT model as context and let it provide a better response**. This is what RAG (Retreival Augmented Generation) is about.\n",
    "\n",
    "Now, before we do this, we need to understand a few things first:\n",
    "\n",
    "1) Chainning and Prompt Engineering\n",
    "2) Embeddings\n",
    "\n",
    "We will use a library call **LangChain** that wraps a lot of boiler plate code.\n",
    "Langchain is one library that does a lot of the prompt engineering for us under the hood, for more information see [here](https://python.langchain.com/en/latest/index.html)"
   ]
  },
  {
   "cell_type": "code",
   "execution_count": 8,
   "id": "eea62a7d-7e0e-4a93-a89c-20c96560c665",
   "metadata": {},
   "outputs": [],
   "source": [
    "# Set the ENV variables that Langchain needs to connect to Azure OpenAI\n",
    "os.environ[\"OPENAI_API_VERSION\"] = os.environ[\"AZURE_OPENAI_API_VERSION\"]"
   ]
  },
  {
   "cell_type": "markdown",
   "id": "325d9138-2250-4f6b-bc88-50d7957f8d33",
   "metadata": {},
   "source": [
    "**Important Note**: Starting now, we will utilize OpenAI models. Please ensure that you have deployed the following models within the Azure OpenAI portal:\n",
    "\n",
    "- text-embedding-ada-002 (or newer)\n",
    "- gpt-35-turbo (1106 or newer)\n",
    "- gpt-4-turbo (1106 or newer)\n",
    "\n",
    "Reference for Azure OpenAI models (regions, limits, dimensions, etc): [HERE](https://learn.microsoft.com/en-us/azure/ai-services/openai/concepts/models)"
   ]
  },
  {
   "cell_type": "markdown",
   "id": "0e7c720e-ece1-45ad-9d01-2dfd15c182bb",
   "metadata": {},
   "source": [
    "## A gentle intro to chaining LLMs and prompt engineering"
   ]
  },
  {
   "cell_type": "markdown",
   "id": "2bcd7028-5a6c-4296-8c85-4f420d408d69",
   "metadata": {},
   "source": [
    "Chains refer to sequences of calls - whether to an LLM, a tool, or a data preprocessing step.\n",
    "\n",
    "Azure OpenAI is a type of LLM (provider) that you can use but there are others like Cohere, Huggingface, etc.\n",
    "\n",
    "Chains can be simple (i.e. Generic) or specialized (i.e. Utility).\n",
    "\n",
    "* Generic — A single LLM is the simplest chain. It takes an input prompt and the name of the LLM and then uses the LLM for text generation (i.e. output for the prompt).\n",
    "\n",
    "Here’s an example:"
   ]
  },
  {
   "cell_type": "code",
   "execution_count": 9,
   "id": "13df9247-e784-4e04-9475-55e672efea47",
   "metadata": {},
   "outputs": [
    {
     "data": {
      "text/plain": [
       "AzureChatOpenAI(client=<openai.resources.chat.completions.Completions object at 0x7fe07a4a2530>, async_client=<openai.resources.chat.completions.AsyncCompletions object at 0x7fe07a515120>, root_client=<openai.lib.azure.AzureOpenAI object at 0x7fe094185fc0>, root_async_client=<openai.lib.azure.AsyncAzureOpenAI object at 0x7fe07a4a2590>, temperature=0.0, openai_api_key=SecretStr('**********'), openai_proxy='', max_tokens=2000, azure_endpoint='https://11092024test.openai.azure.com/', deployment_name='gpt-4o', openai_api_version='2024-05-01-preview', openai_api_type='azure')"
      ]
     },
     "execution_count": 9,
     "metadata": {},
     "output_type": "execute_result"
    }
   ],
   "source": [
    "COMPLETION_TOKENS = 2000\n",
    "llm = AzureChatOpenAI(deployment_name=os.environ[\"GPT4_DEPLOYMENT_NAME\"], \n",
    "                      temperature=0, \n",
    "                      max_tokens=COMPLETION_TOKENS)\n",
    "\n",
    "llm"
   ]
  },
  {
   "cell_type": "code",
   "execution_count": 10,
   "id": "a3b55adb-6f98-4f15-b67a-9fbba5820560",
   "metadata": {},
   "outputs": [],
   "source": [
    "output_parser = StrOutputParser()\n",
    "prompt = ChatPromptTemplate.from_messages([\n",
    "    (\"system\", \"You are an assistant that give thorough responses to users.\"),\n",
    "    (\"user\", \"{input}. Give your response in {language}\")\n",
    "])"
   ]
  },
  {
   "cell_type": "markdown",
   "id": "6417d052-0035-4635-93e8-2bd3ec50d796",
   "metadata": {},
   "source": [
    "The | symbol is similar to a unix pipe operator, which chains together the different components feeds the output from one component as input into the next component."
   ]
  },
  {
   "cell_type": "code",
   "execution_count": 11,
   "id": "77a37e60-a1ef-4750-a1ec-9e4fe5ba07fa",
   "metadata": {},
   "outputs": [],
   "source": [
    "chain = prompt | llm | output_parser"
   ]
  },
  {
   "cell_type": "code",
   "execution_count": 12,
   "id": "6be6b4df-ee2c-4a0c-8ad3-a672d70f4f8d",
   "metadata": {},
   "outputs": [
    {
     "data": {
      "text/markdown": [
       "Un hombre de 70 años experimentó un malestar repentino mientras visitaba la Galería Uffizi en Florencia, Italia. Este tipo de reacción se conoce a veces como el \"Síndrome de Stendhal\", una condición que puede ocurrir cuando alguien se siente abrumado por la belleza del arte. Los síntomas pueden incluir mareos, palpitaciones y desmayos. En este caso, el hombre fue atendido rápidamente por el personal del museo y los servicios médicos. Afortunadamente, se recuperó sin complicaciones graves."
      ],
      "text/plain": [
       "<IPython.core.display.Markdown object>"
      ]
     },
     "metadata": {},
     "output_type": "display_data"
    },
    {
     "name": "stdout",
     "output_type": "stream",
     "text": [
      "CPU times: user 17.2 ms, sys: 7.48 ms, total: 24.6 ms\n",
      "Wall time: 1.28 s\n"
     ]
    }
   ],
   "source": [
    "%%time\n",
    "display(Markdown(chain.invoke({\"input\": QUESTION, \"language\": \"Spanish\"})))"
   ]
  },
  {
   "cell_type": "markdown",
   "id": "cd8539d0-a538-4368-82c3-5f91d8370f1e",
   "metadata": {},
   "source": [
    "**Note**: this is the first time you use OpenAI in this Accelerator, so if you get a Resource not found error, is most likely because the name of your OpenAI model deployment is different than the environmental variable set above `os.environ[\"GPT35_DEPLOYMENT_NAME\"]`"
   ]
  },
  {
   "cell_type": "markdown",
   "id": "50ed014c-0c6b-448c-b995-fe7970b92ad5",
   "metadata": {},
   "source": [
    "Great!!, now you know how to create a simple prompt and use a chain in order to answer a general question using ChatGPT knowledge!. \n",
    "\n",
    "It is important to note that we rarely use generic chains as standalone chains. More often they are used as building blocks for Utility chains (as we will see next). Also important to notice is that we are NOT using our documents or the result of the Azure Search yet, just the knowledge of ChatGPT on the data it was trained on."
   ]
  },
  {
   "cell_type": "markdown",
   "id": "12c48038-b1af-4228-8ffb-720e554fd3b2",
   "metadata": {
    "tags": []
   },
   "source": [
    "**The second type of Chains are Utility:**\n",
    "\n",
    "* Utility — These are specialized chains, comprised of many building blocks to help solve a specific task. For example, LangChain supports some end-to-end chains (such as `create_retrieval_chain` for QnA Doc retrieval, Summarization, etc).\n",
    "\n",
    "We will build our own specific chain in this workshop for digging deeper and solve our use case of enhancing the results of Azure AI Search."
   ]
  },
  {
   "cell_type": "markdown",
   "id": "b0454ddb-44d8-4fa9-929a-5e5563dd28f8",
   "metadata": {},
   "source": [
    "\n",
    "But before dealing with the utility chain needed, let's first review the concept of Embeddings and Vector Search and RAG. \n",
    "\n",
    "## Embeddings and Vector Search\n",
    "\n",
    "From the Azure OpenAI documentation ([HERE](https://learn.microsoft.com/en-us/azure/ai-services/openai/how-to/embeddings?tabs=python)), An embedding is a special format of data representation that can be easily utilized by machine learning models and algorithms. The embedding is an information dense representation of the semantic meaning of a piece of text. Each embedding is a vector of floating point numbers, such that the distance between two embeddings in the vector space is correlated with semantic similarity between two inputs in the original format. For example, if two texts are similar, then their vector representations should also be similar. \n",
    "\n",
    "### Why Do We Need Vectors?\n",
    "\n",
    "Vectors are essential for several reasons:\n",
    "\n",
    "- **Semantic Richness**: They convert the semantic meaning of text into mathematical vectors, capturing nuances that simple keyword searches miss. This makes them incredibly powerful for understanding and processing language.\n",
    "- **Human-like Searching**: Searching using vector distances mimics the human approach to finding information based on context and meaning, rather than relying solely on exact word matches.\n",
    "- **Efficiency in Scale**: Vector representations allow for efficient handling and searching of large datasets. By reducing complex text to numerical vectors, algorithms can quickly sift through vast amounts of information.\n",
    "\n",
    "### Understanding LLM Tokens' Context Limitation\n",
    "\n",
    "Large Language Models (LLMs) like GPT come with a token limit for each input, which poses a challenge when dealing with lengthy documents or extensive data sets. This limitation restricts the model's ability to understand and generate responses based on the full context of the information provided. It becomes crucial, therefore, to devise strategies that can effectively manage and circumvent this limitation to leverage the full power of LLMs.\n",
    "\n",
    "To address this challenge, the solution incorporates several key steps:\n",
    "\n",
    "1. **Segmenting Documents**: Breaking down large documents into smaller, manageable segments.\n",
    "2. **Vectorization of Chunks**: Converting these segments into vectors, making them compatible with vector-based search techniques.\n",
    "3. **Hybrid Search**: Employing both vector and text search methods to pinpoint the most relevant segments in relation to the query.\n",
    "4. **Optimal Context Provision**: Presenting the LLM with the most pertinent segments, ensuring a balance between detail and brevity to stay within token limits.\n",
    "\n",
    "\n",
    "Our ultimate goal is to rely solely on vector indexes and hybrid searchs (vector + text). While it is possible to manually code parsers with OCR for various file types and develop a scheduler to synchronize data with the index, there is a more efficient alternative: **Azure AI Search has automated chunking strategies and vectorization**.\n",
    "\n",
    "It's important to note that **document segmentation and vectorization have already been completed in AI Azure Search**, as seen in the `ordered_content` dictionary. This pre-processing step simplifies subsequent operations, ensuring rapid response times and adherence to the token limits of the chosen OpenAI model.\n"
   ]
  },
  {
   "cell_type": "markdown",
   "id": "80e79235-3d8b-4713-9336-5004cc4a1556",
   "metadata": {},
   "source": [
    "So really, our only job now is to make sure that the results from the Azure AI Search queries fit on the LLM context size, and then let it do its magic."
   ]
  },
  {
   "cell_type": "code",
   "execution_count": 15,
   "id": "12682a1b-df92-49ce-a638-7277103f6cb3",
   "metadata": {},
   "outputs": [],
   "source": [
    "index_name = \"srch-index-files\"\n",
    "index2_name = \"srch-index-csv\"\n",
    "indexes = [index2_name]"
   ]
  },
  {
   "cell_type": "markdown",
   "id": "78a6d6a7-18ef-45b2-a216-3c1f50006593",
   "metadata": {},
   "source": [
    "In order to not duplicate code, we have put many of the code used above into functions. These functions are in the `common/utils.py` and `common/prompts.py` files. This way we can use these functios in the app that we will build later.\n",
    "\n",
    "`get_search_results()` do the multi-index search and returns the combined ordered list of documents/chunks."
   ]
  },
  {
   "cell_type": "code",
   "execution_count": 16,
   "id": "3bccca45-d1dd-476f-b109-a528b857b6b3",
   "metadata": {},
   "outputs": [
    {
     "name": "stdout",
     "output_type": "stream",
     "text": [
      "Number of results: 19\n"
     ]
    }
   ],
   "source": [
    "k = 20  # play with this parameter and see the quality of the final answer\n",
    "ordered_results = get_search_results(QUESTION, indexes, k=k, reranker_threshold=1)\n",
    "print(\"Number of results:\",len(ordered_results))"
   ]
  },
  {
   "cell_type": "code",
   "execution_count": 17,
   "id": "7714f38a-daaa-4fc5-a95a-dd025d153216",
   "metadata": {},
   "outputs": [
    {
     "data": {
      "text/plain": [
       "OrderedDict([('DB-20181219-mener-maleriet-gir-h-5',\n",
       "              {'title': 'DB-20181219-mener-maleriet-gir-h-5',\n",
       "               'name': 'newspapers_online_nb',\n",
       "               'chunk': \"Noen preges mer av kunsten enn andre. En 70 år gammel mann ble lørdag rammet av et akutt illebefinnende i Uffizi-galleriet i Firenze, Italia. Det er uklart om det dreide seg om en hjertestans eller et hjerteinfarkt. Heldigvis for mannen var en gruppe kardiologer også på besøk i galleriet, og behandlet ham på stedet. Dette melder The Times. Etter sigende er det verken rødt kjøtt eller sigaretter som forårsaket anfallet. Tvert imot kan vi ifølge avisa skylde på renessansemaleren Sandro Botticelli, og maleriet hans «Venus' fødsel» fra 1486.\",\n",
       "               'location': '2021',\n",
       "               'caption': \"DB-20181219-mener-maleriet-gir-h-5. Noen preges mer av kunsten enn andre. En 70 år gammel mann ble lørdag rammet av et akutt illebefinnende i Uffizi-galleriet i Firenze, Italia. Det er uklart om det dreide seg om en hjertestans eller et hjerteinfarkt. Heldigvis for mannen var en gruppe kardiologer også på besøk i galleriet, og behandlet ham på stedet. Dette melder The Times. Etter sigende er det verken rødt kjøtt eller sigaretter som forårsaket anfallet. Tvert imot kan vi ifølge avisa skylde på renessansemaleren Sandro Botticelli, og maleriet hans «Venus' fødsel» fra 1486..\",\n",
       "               'score': 3.151348114013672,\n",
       "               'index': 'srch-index-csv'}),\n",
       "             ('DA-20130624-det-umuliges-ku-7',\n",
       "              {'title': 'DA-20130624-det-umuliges-ku-7',\n",
       "               'name': 'newspapers_online_nb',\n",
       "               'chunk': \"I helgen åpnet den sjuende utgaven av Momentum-biennalen i Moss. Årets kuratorer har valgt å dele kunsthallen i to separate deler. Svensk-norske Power Ekroth har kalt sin utstilling Six Impossible Things Before Breakfast, mens Erlend Hammer har valgt tittelen Dare 2 Love Yourself. Til sammen deltar 28 kunstnere, 9 kvinner og 19 menn, omtrent halvparten med verker spesielt lagd for biennalen. Ulike veggfarger markerer territoriet til hver kurator, hennes er rosa, hans oransje. Skulpturene på utstillingen har sterke estetiske kvaliteter. Ekroth presenterer «Babels tårn» av iranskfødte Goran Hassanpour, en pyramide av digre lysbilder som viser en tropisk foss i sukkertøyfarger, en type kitsch som er vanlige i kinarestauranter og private norsk-asiatiske hjem. For kunstneren vekker de minner om fra barndommen, da bestefaren fortalte ham om Babels tårn og Babylons hengende hager, legender som i guttens fantasi smeltet sammen til ett paradisisk sted. Verket favner gammelt og nytt, dagdrøm og populærkultur, leirbålets fortellinger og moderne konseptkunst. Erlend Hammer påstår at hans eneste idé var å få helheten til å «se bra ut». Det handler om «å like», noe som for en kurator er et problematisk kriterium, siden det bærer med seg en smak av interiørdesign snarere enn kunstnerisk refleksjon. Han har ikke gitt kunstnerne andre rammer enn de fysiske, noe som fører til at de fleste går i vante spor. Sverre Wyller viser skulpturer i skrapmetall fra serien «Miramichi», bøyd i myke organiske former, grønne og blå, slik vi kjenner dem fra Galleri Riis de siste årene. Rustflekker i skjøtene har inspirert fargen på Ane Graffs batikkaktige tekstiler, drapert over store stativer. Det blir et vakkert møte mellom mykt og hardt, en skulpturell tango i stoff og stål. Power Ekroth ga kunstnerne en tematisk oppfordring, hentet fra «Alice i Eventyrland»: Prøv å tro på seks umulige ting før frokost. Den som tok oppfordringen mest alvorlig var svenske Johan Zetterquist, kjent for ufullførte prosjekter på grensa til det fantastiske. Til Momentum foreslo han å dra en supertanker opp på land og sette den på høykant, og da det ikke gikk, å la en stuntmann spinne i bil over Mossekanalen etter mønster av en scene i en James Bond-film. Til slutt har han nøyd seg med modeller av forslagene. Videokunst oppleves av mange som en krevende sjanger, men verkene på utstillingen spenner fra det lette til det eksperimentelle. I Mai Hofstad Gunnes' «Bike & Bolex» sykler glade mennesker rundt i en park og filmer hverandre med 16 millimeters kameraer, mens Gabriel Lester i «The Blank Stare» utforsker det indre blikket ved å vise mennesker fortapt i egne tanker. Videoene er tiltalende utstilt i mørke rom med store veggprojeksjoner. Alle maleriene er utvalgt av Erlend Hammer, og inkluderer Lars Monrad Vaages duse storformatsbilder, Bjarne Melgaards grelle små abstraksjoner (langtfra hans beste) og mest overraskende Charlotte Wankels avantgardistiske malerier fra midten av 1900-tallet. Disse er i seg selv verdt et besøk, selv om de er et uventet valg på en utstilling for samtidskunst. Wankel var født i Moss og ble en av våre første modernister. Hun studerte i Paris under Matisse og Léger, dro til Norge og stilte ut kubistiske verker i 1927, var forut for sin tid og fikk dårlige kritikker, ble bitter og skuffet. I sommer stiller også Lillehammer kunstmuseum ut Wankel-malerier, sammen med andre kvinnelige kunstnere fra fortid og nåtid, under felles tittel «Kvinnelige pionerer - nye stemmer». Tross gode enkeltverker er Momentum-biennalen 2013 som helhet vanskelig å få grep om. Kuratorene hevder at de utfyller hverandre, men mangler åpenbart en felles visjon. Ekroths tilnærming framstår gjennomtenkt og ambisiøs, mens Hammers får et skjødesløst og tilfeldig preg. Mest markant er forskjellen i tilgang på informasjon. Ekroth gir oss velskrevne og interessante introduksjoner til hver enkelt kunstner, Hammer forblir kategorisk taus også om verker som uten kontekst gir liten mening. Ifølge katalogen misliker han å skrive, noe som lyder maniert fra en kunstkritiker som ifjor fikk tekstene sine samlet i ei bok. Verdien av forklaringer illustreres ved et sjarmerende verk fra Ekroths utstilling. Bjørn-Kowalski Hansen har laget en kaféliknende installasjon kalt «Coffiest», hvor det skal deles ut gratis kaffe og selges promoeffekter med årets Momentum-logo (en stilisert elefant designet av kunstneren). Hensikten er ikke å tjene penger, men å gi en kommentar til den etterhvert lukrative binæringen for mange museer. Å gjøre kunst til merkevare reiser spørsmål omkring snylting på kunstnernes arbeid, og publikums rolle som kulturelle forbrukere.\",\n",
       "               'location': '2021',\n",
       "               'caption': 'Han har ikke gitt kunstnerne andre rammer enn de fysiske, noe som fører til at de fleste går i vante spor Sverre Wyller viser skulpturer i skrapmetall fra serien «Miramichi», bøyd i myke organiske former, grønne og blå, slik vi kjenner dem fra Galleri Riis de siste årene Rustflekker i skjøtene har inspirert fargen på Ane Graffs batikkaktige tekstil...',\n",
       "               'score': 1.7090991735458374,\n",
       "               'index': 'srch-index-csv'}),\n",
       "             ('jaerbladet_null_null_19851004_38_79_1_MODSMD_ARTICLE42',\n",
       "              {'title': 'jaerbladet_null_null_19851004_38_79_1_MODSMD_ARTICLE42',\n",
       "               'name': 'newspaper_ocr',\n",
       "               'chunk': 'Laurdag opnar ei ny og spen nande utstilling på Hå gamle Pres tegard; «Inntrykk og Uttrykk». Den handlar om kunst og kultur i nærmiljøet, og det er første gong ei utstilling av dette slaget vert synt i Noreg. «Inntrykk og Uttrykk» er eit forsøks- og utviklingsarbeid. Hovedmålet med den er å kartleg gja og setja søkelyset på sider ved kunst- og kulturstoff og forming sarbeid i skolen. Mesteparten av stoffet som er nytta i utstillinga har tilknytning til Hå kommune og di striktet rundt. Mykje av stoffet har og utgangspunkt eller ein saman heng med den kristne bodskapen. Utstillinga er eit samarbeidspro sjekt mellom Hå skolekontor, Hå kulturkontor og Telemark lærar høgskule, Formingslærarskulen. Prosjektleiar er høgskulelektor Ma rit Bjorland frå Varhaug. I tillegg har ei nemnd samansett av fire per sonar hatt ansvaret for gjennomfø ringa av prosjektet. Det er lærar Emmy Engdal, kateket Thomas Pe ter Randulff, pedagogisk konsulent Hans Torgny Indrebø og konsulent ved kulturkontoret Steinar Skorstad. Marit Bjorland seier til Jærbla det at kunstformidling i skulen til no har vore eit forsømt område. -Den har vore sentralt orientert og lite folkeleg. Ved Telemark læ rarhøgskule, Formingslærarskulen har vi arbeidd for å betra kunstfor midlinga. Eg har då fått dette som spesialoppgåve. Eg ynskte å arbeida med eit prosjekt og ikkje berre ar beida med kunstformidling på det teoretiske planet. Slik kom dette prosjektet i Hå i gong, seier Bjorland. I 1 1/2 år har ho arbeidd med kunstformidling, og utstillinga på Hå gamle Prestegard er berre eit av mange ledd i hennar arbeid. -Det er skulane som er mål gruppa. For å få i gang skapande prosessar har eg nytta ymse meto dar. utstillingar som har sirkulert til fem skular i Hå gjennom siste skuleår. Innhaldet i utstillinga har variert frå kunst, plakatar, smykke, skrift og mykje anna. Det har og blitt utar beidd framlegg til formingsoppgå ver til lærarane for undervisning på ulike klassesteg. Ut frå dei inntrykk elevane har fått gjennom dei små ut stillingane har dei sjølv fått gitt ut trykk for si oppleving. Dei inn trykka elevane har festa på teikne ark, i skulpturar og andre ting er no med i utstillinga på Hå, seier Bjorland. Dei opplegga ho har laga skal ho no sjå om lærarane kan nytta slik som dei er eller om dei må justerast. Formålet med opplegga, som inne held både før- og etterarbeid, er å nytta ut kulturverdien i nærmiljø. På utstillinga på Hå har og kunst narar som har tilknytning til distrik tet og fått kome til med sine arbeid. Der er mellom anna Martin Haarr frå Vigrestad representert, Kjell Pahr-Iversen, Oddlaug Fidjestøl, Gunnar Torvund og Per Odd Aarre stad. I utstillinga finn ein og eit ut val av biletkulturen og bruksfor mene som var med på å setja preg på heim, skule, kyrkje, bedehus og frå lokalmiljøet elles. For dei som ynskjer å bruka noko av dette i sku lesamanheng er der både informasjons- og undervisnings materiell. Der blir og vist lysbilete og videoprogram frå arbeidet i sku len og innhenting av stoff frå lokal miljøet. Utstillinga er delt inn i fem ho vedgrupper: 1. Livet - kvardagen - hendingane - høgtidene. 2. Skrift - bilete. 3. Samling - samlingsplass. 4. Gud - Jesus - Kristus. 5. Det sak rale - symbolikk. Ved kvar avdeling får publikum stilt fem spørsmål. Svara blir ikkje gitt, men er å finna i sjølve utstil linga. «Inntrykk og Uttrykk» vert ut stilt både i løa og hovedhuset, og den vil stå fram til jul. Høgskulelektor Marit Bjor land frå Varhaug er prosjektleiar for utstillinga «Inntrykk og Uttrykk» ved Hå gamle Prestegard.',\n",
       "               'location': '1985',\n",
       "               'caption': 'Innhaldet i utstillinga har variert frå kunst, plakatar, smykke, skrift og mykje anna Det har og blitt utar beidd framlegg til formingsoppgå ver til lærarane for undervisning på ulike klassesteg Ut frå dei inntrykk elevane har fått gjennom dei små ut stillingane har dei sjølv fått gitt ut trykk for si oppleving Dei inn trykka elevane har festa på t...',\n",
       "               'score': 1.6907168626785278,\n",
       "               'index': 'srch-index-csv'}),\n",
       "             ('nordlys_null_null_20051006_104_232_1_MODSMD_ARTICLE87',\n",
       "              {'title': 'nordlys_null_null_20051006_104_232_1_MODSMD_ARTICLE87',\n",
       "               'name': 'newspaper_ocr',\n",
       "               'chunk': 'Eirik Junge Eliassen er knapt på plass i Harstad i sin nye jobb som festivalinspirator - før han gyver løs på byens profesjonelle kulturliv. nelle kulturmiljøer». - Det profesjonelle kunstnerli vet kan være drepen. Et godt betalt kunstnerliv er ikke alltid forenlig med å være kunstner. Kunsten må komme av et sug og en lyst til å gjøre noe. Det er overhodet ingen menneskerett å være utøvende. fesjonelle sultne nok? Jeg er ikke så sikker. Dersom jeg kan utfor dre noen i byens profesjonelle miljø, ja til og med knuse dem, gjør jeg det gjerne. Kunstnerisk integritet er ikke noe du har, men noe du fortjener. Sier Eirik Junge Eliassen - og snakker nok av solid erfaring.',\n",
       "               'location': '2005',\n",
       "               'caption': 'Kunsten må komme av et sug og en lyst til å gjøre noe Det er overhodet ingen menneskerett å være utøvende. fesjonelle sultne nok? Jeg er ikke så sikker Dersom jeg kan utfor dre noen i byens profesjonelle miljø, ja til og med knuse dem, gjør jeg det gjerne Kunstnerisk integritet er ikke noe du har, men noe du fortjener Sier Eirik Junge Eliassen - og...',\n",
       "               'score': 1.5999540090560913,\n",
       "               'index': 'srch-index-csv'}),\n",
       "             ('opplandarbeiderblad_null_null_19950620_72_138_1_MODSMD_ARTICLE103',\n",
       "              {'title': 'opplandarbeiderblad_null_null_19950620_72_138_1_MODSMD_ARTICLE103',\n",
       "               'name': 'newspaper_ocr',\n",
       "               'chunk': 'To valgfagdager resulterte i utstil ling i Gjøvik bibliotek, og en gruppe 7.- 8.- og 9.-klassinger f ra Gjøvik skole fikk prøvd seg med pensel og lerret med fritt motiwalg. Fram til førstkommende fredag kan du se elevenes kreative prestasjoner i første etasje i Gjøvik bibliotek. spirert av Munch, mens andre har et lite snev av Skagen-motiv i seg. - Ingen av elevene hadde noen gang prøvd seg med oljemaling men det ser ut som om dette ga mersmak. De var så ivrige at de holdt på langt utover kvelden, smi ler lærer Ellen Floor Nelson. - Etter at bildene var ferdige, ble måleriene profesjonelt innrammet, forteller elevene, som etter utstil lingen sikkert får bildet sitt på en hedersplass i stuen. UNGE KUNSTNERE: - Ingen av oss har prøvd oljemaling før, sier f. v: Jessica Sinclair, Mona Øverby, Anita Ha ger, Hanne Schjøl berg Rovik og Eva Melhus ved Gjøvik skole.',\n",
       "               'location': '1995',\n",
       "               'caption': 'av Munch, mens andre har et lite snev av Skagen-motiv i seg - Ingen av elevene hadde noen gang prøvd seg med oljemaling men det ser ut som om dette ga mersmak De var så ivrige at de holdt på langt utover kvelden, smi ler lærer Ellen Floor Nelson - Etter at bildene var ferdige, ble måleriene profesjonelt innrammet, forteller elevene, som etter utsti...',\n",
       "               'score': 1.5746783018112183,\n",
       "               'index': 'srch-index-csv'}),\n",
       "             ('fremtiden_null_null_20170930_132_226_1_MODSMD_ARTICLE161',\n",
       "              {'title': 'fremtiden_null_null_20170930_132_226_1_MODSMD_ARTICLE161',\n",
       "               'name': 'newspaper_ocr',\n",
       "               'chunk': 'Kimsthallen er finansiert av Bonnier familien som eier Sveriges og Nordens største forlagshus, inkludert et tredve talls selskaper i Norge. Det moderne glassbygget ligger like bortenfor Centralstasjonen, ved siden av konser nets ruvende høyhus i gul tegl. Forlagshuset har alltid hatt øynene rettet utover, og symbolikken fra jern banesporene utenfor vinduene under streker det ytterligere: I kunsthallen knytter de forbindelser til både den hjemlige og internasjonale kunstver denen. Det blir spesielt tydelig i «Bilder av krig», en sterk utstilling som i sitt billedmateriale hovedsakelig henter motiver fra fjerne konflikter som Istanbul, Rwanda, Sør-Afrika og Vietnam. Seiv om krigene som behandles i kunsten kan være langt borte, er billed materialet nært nok. Det er vanskelig å gå uberørt gjennom utstillingen. Her settes lokale erfaringer - i betydningen svenske/nordiske og europeiske/vest lige sammen med virkelighetsbes krivelser fra fjerntliggende land. Det blir veldig direkte og svært sterkt når Martha Rosler monterer reportasje bilder fra Vietnamkrigen og Irakkrigen (seriene ble laget i periodene 1967-72 og 2004-8) - inn i bilder av velstående amerikaneres private bjem, hentet fra magasinet «House Beautiful». Kontrasten er påtagelig og svært vir kningsfull. serien av collager heter «House Beautiful: Bringing the war home», og den fyller en hel vegg. Seiv om det er mange bilder er det de enkelte skjebnene og deres ulike uttrykk for for tvilelse og urett som biter seg fast.',\n",
       "               'location': '2017',\n",
       "               'caption': 'Seiv om krigene som behandles i kunsten kan være langt borte, er billed materialet nært nok Det er vanskelig å gå uberørt gjennom utstillingen Her settes lokale erfaringer - i betydningen svenske/nordiske og europeiske/vest lige sammen med virkelighetsbes krivelser fra fjerntliggende land Det blir veldig direkte og svært sterkt når Martha Rosler mo...',\n",
       "               'score': 1.4793198108673096,\n",
       "               'index': 'srch-index-csv'}),\n",
       "             ('mossavis_null_null_19940711_118_156_1_MODSMD_ARTICLE45',\n",
       "              {'title': 'mossavis_null_null_19940711_118_156_1_MODSMD_ARTICLE45',\n",
       "               'name': 'newspaper_ocr',\n",
       "               'chunk': '■■ Dette er Djevelens verk, motsetningen til Gud. Mange unge fascineres av det onde. Vi må vise at det gode er det ster keste, sier kunstneren Victor Sparre. Det er han som har laget det vakre glassmaleriet i Jeløy kirke, og han tror ikke at naive guttestreker ligger bak ildspåsettelsen. - Var du redd for at glass maleriet var ødelagt av bran nen? Egentlig ikke. Det skal svært mye til før det blir øde lagt. bitene med slegge, men hele maleriet er vanskelig å ødeleg ge. Det tykke fargede glasset er festet i armert betong, og tåler det meste. Dessuten vet jeg at åndskraften i bildet ikke kan ødelegges. Victor Sparre besøker ofte Jel øy kirke. Så også denne før ste gudstjenes ten etter ildspå settelsen. laget kunstverk i 25 kirker, så derfor har jeg mange å velge mellom. Men jeg trives ekstra godt i Jeløy kirke, innrømmer han. Da han gikk en runde rundt kirken før gudstjenesten, la han merke til at det var tegnet et satanmerke med kritt, og ved siden av sto det skrevet «I love you». - Dette må vi ta dypt alvor lig. Det er ikke barnslige ung dommer som har vært på ferde, det er noen som trenger hjelp. Satan viser seg på forskjellig vis.',\n",
       "               'location': '1994',\n",
       "               'caption': 'Da han gikk en runde rundt kirken før gudstjenesten, la han merke til at det var tegnet et satanmerke med kritt, og ved siden av sto det skrevet «I love you» - Dette må vi ta dypt alvor lig Det er ikke barnslige ung dommer som har vært på ferde, det er noen som trenger hjelp Satan viser seg på forskjellig vis..\\x00 - Var du redd for at glass maleriet ...',\n",
       "               'score': 1.419194221496582,\n",
       "               'index': 'srch-index-csv'}),\n",
       "             ('arbeiderbladetoslo_null_null_19770419_1_88_1_MODSMD_ARTICLE173',\n",
       "              {'title': 'arbeiderbladetoslo_null_null_19770419_1_88_1_MODSMD_ARTICLE173',\n",
       "               'name': 'newspaper_ocr',\n",
       "               'chunk': 'Jeg har bildet fullt ferdig inne i meg før jeg begynner å male, sier Anne-Lise Knoff, som nå stiller ut i Kunstnerfor bundet sammen med Hans Sa enger, Hetty Gleditsch, billed huggeren Arne Vinje Gunnerud og smykkekunstneren Kari Hauge. Hele den store overlyssalen i første etasje er fylt med hen nes dekorative, drømmeaktige bilder i duse farger ispiedd bladgull. Jeg bruker gull først og fremst fordi jeg synes det er vakkert, fordi det er paradisets farge. Hva lar du deg inspirere av? Ofte av strofer og dikt. Det hender jeg skriver et lite dikt inne i bildet. Men også gjen stander opptar meg sterkt, små fine ting, som en bitr av et mas sehakel, et lite røkelseskar av gull. Eller blomster. Jeg er sterkt opptatt av blomster, de finnes i nesten alle bildene mi ne. Jeg er rett og slett interes sert i botanikk. å se i disse bildene? Ja, jeg er veldig glad i å male kloder, jorden sett fra himmelrommet for eksempel. Enkelte vil kanskje inn vende at det er få eller ingen mennesker i måleriene mine, men tingene jeg forteller om forteller samtidig om menne skene. Det må være tidkrevende å arbeide med bladgull? Ja, det krever tålmodighet. Jeg legger først en gjennomsik tig «gull-grunn», som skal tørke i tolv timer. Deretter legger jeg på bladgullet, det tar også svært lang tid. Foruten bilder i olje og blad gull er Anne-Lise Knoff også kjent for sine svart-hvite gra fikkbilder. I Kunstnerforbun det denne gangen viser hun 35 arbeider. I den mindre salen er det Fredrikstad-grafikeren Hans Saenger som stiller ut fargeets ninger. Han er godt kjent fra to tidligere utstillinger i Kunst nerforbundet, og fra separatut stillinger i UKS og i byer som Bergen, Sandefjord, Sarpsborg, Halden og Fredrikstad. Tidligere holdt han seg mye til svart-hvitt, men i de siste årene er det stort sett blitt far ge-etsninger. Det er stadig landskapet i Østfold som opptar meg, sier han. Men innimellom kan man også skimte noe min dre østfoldsk som «Tidlig mor gen i Normandie» og «Belgisk bondegård». Et par portretter er også med. Anne-Lise Knoff viser fra et av sine yndlinger, Agamemnon, her som «Astronaut».',\n",
       "               'location': '1977',\n",
       "               'caption': 'nå stiller ut i Kunstnerfor bundet sammen med Hans Sa enger, Hetty Gleditsch, billed huggeren Arne Vinje Gunnerud og smykkekunstneren Kari Hauge Hele den store overlyssalen i første etasje er fylt med hen nes dekorative, drømmeaktige bilder i duse farger ispiedd bladgull Jeg bruker gull først og fremst fordi jeg synes det er vakkert, fordi det er p...',\n",
       "               'score': 1.3904718160629272,\n",
       "               'index': 'srch-index-csv'}),\n",
       "             ('tromso_null_null_19921125_0_276_1_MODSMD_ARTICLE40',\n",
       "              {'title': 'tromso_null_null_19921125_0_276_1_MODSMD_ARTICLE40',\n",
       "               'name': 'newspaper_ocr',\n",
       "               'chunk': 'Madrid: Markeringen av Madrid som Europas kul turhovedstad har kommet helt i skyggen av storar rangementene verdensut stillingen og sommerolym piaden. Men i løpet av 1992 har Spanias hoved stad befestet sin stilling som et av Europas viktigs te kunstsentre. Det skyldes ikke minst åpnin gen av et nytt museum; El palacio de Villahermosa, som inneholder baron Thyssen-Bornemiszas pri vate malerisamling av eksper ter karakterisert som en av ver dens betydeligste private samlin ger. Villahermosa stiller ut over 800 målerier av Thyssen-famili ens nærmere 1.400 kunstverk, og en vandring gjennom museets tre etasjer gir publikum mulighet til å beundre et enestående utvalg av malerkunst fra det 13. til det 20. århundre. Ikke tilfeldig Det er ikke tilfeldig at den styr trike Baron Thyssen til slutt valg te Madrid som senter for sin ho vedsamling, som i første omgang skal leies ut til de spanske myn dighetene i ti år. Prado-museet, som blant annet inneholder de store spanske kunstnerne El Gre co, Velazquez og Goya, og det nye, moderne museet El centro de arte reina Sofia, som blant annet stiller ut Picassos Guernica, er al ierede svært attraktive trekkplas tre for kunstinteresserte ira inn og utland. i r Den spanske regjeringen legger stor prestisje i å presentere Spania som en viktig kunstnasjon, og be vilger årlig store beløp til kulturli vet. Bare istandsettelsen av muse et Villahermosa, en bygning fra det 18. ringen 4.3 milliarder pesetas (ca 258 millioner kroner). Det er ikke tvil om at Mad rid ønsker å bli et av Europas vik tigste sentre innen malerikunst spesielt innen moderne kunst, og at byen er på vei til bli det, sier Jan Brockmanrt, som er direktør for Museet for samtidskunst i Os lo. Han beskriver Thyssen-samlin gen som et svært betydelig til skudd til Madrids allerede eksi sterende tilbud. ke kunstinteresserte til Madrid, legger han til. Thyssen museet, som ble offi sielt åpnet 10.oktober, har allere de hatt stor pågang. Ledelsen opp lyser at samlingen blir sett av rundt 4.500 mennesker i helgene, og av mellom 2.500 og 3.500 i lø pet av uken. Baron Thyssen Baron Heinrich Thyssen-Bor nemisza begynte å kjøpe inn må lerier på 1920-tallet, og ved hans død talte samlingen 525 kunst verk. zanne, Kandinsky, Picasso, Gris, Leger, Mondrian, Klee, Braque, Mir6, Dali, Bacon, Hopper og Munch, selvfølgelig! Men om kunstverkene er man ge, er det 6.000 kvadratmeter sto re utstillingsarealet likevel over kommelig. Særlig hvis man tar en kaffepause mellom hver etasje. Museets ledelse anbefaler å starte i tredje etasje og å arbeide seg nedover for å få den riktige historiske gjennomgangen. Henri Matisse er representert med blant annet maleriet «Konversasjon» i Baron Thyssens imponerende samling, som har stor spennvidde og som Madrid by får disponere i ti årfremover.',\n",
       "               'location': '1992',\n",
       "               'caption': 'død talte samlingen 525 kunst verk. zanne, Kandinsky, Picasso, Gris, Leger, Mondrian, Klee, Braque, Mir6, Dali, Bacon, Hopper og Munch, selvfølgelig! Men om kunstverkene er man ge, er det 6.000 kvadratmeter sto re utstillingsarealet likevel over kommelig Særlig hvis man tar en kaffepause mellom hver etasje Museets ledelse anbefaler å starte i tredj...',\n",
       "               'score': 1.3697916269302368,\n",
       "               'index': 'srch-index-csv'}),\n",
       "             ('innherredverdal_null_null_20161008_1_117_1_MODSMD_ARTICLE44',\n",
       "              {'title': 'innherredverdal_null_null_20161008_1_117_1_MODSMD_ARTICLE44',\n",
       "               'name': 'newspaper_ocr',\n",
       "               'chunk': 'stjålet tre lcunsten? Skulptør og billedhugger Erlend Leirdal fortviler etter at deler av en kunstinstallasjon er stjålet. Forberedelsene til utstillingen har skjedd ved den tidligere planteskolen på Stiklestad. Her har Leirdal jobbet med tre-em ner som er plukket ut av poplene som ble felt på Olavshaugen ved kultursenteret tidligere i år. fredfylte plass, og så kommer det noen og stjeler tre store ele menter. De veier flere hundre kilo, så det må ha vært noen her med henger, sier Leirdal. Erlend Leirdal (52) har de siste 14 dagene arbeidet med en større kunstinstallasjon som er plan lagt til en separatutstilling på Trøndelag senter for samtids kunst i Trondheim. Kan ikke erstattes De tre elementene lar seg ikke sånn uten videre erstatte. - Dette har vært en forstem mende dag. . - Nei, jeg har plukket ut de all er beste delene. De trestammene som er igjen kan ikke brukes da det er sumet ved, er krokene og har feil dimensjon. Til hytta? - Har du noen ide om hvem som har vært på ferde? - Nei, men det er nærliggende å tro at noen har sett seg nytte i å bruke disse til sin hytte, antyder kunstneren og legger til: - Som ved er det temmelig ubrukbart. Og hvis det var snakk om ved, er det både bakrester og annet som ligger her som kan tas. - Hva gjør du nå? - Jeg må satse på at elemen tene dukker opp. Forbruksvarer som du kan kjøpe i butikken det kan bli stjålet, det er trasig, men sånne ting kan ikke erstattes. Men dette skaper store problem er og fører til et økonomisk tap for meg. Verdien på dette ligger på 600.000 kroner, og er hele næringsgrunnlaget for meg i år. Jeg må nå kanskje avlyse hele ut stillingen som var planlagt åpnet 24. november. Håpet er elemen tene kommer til rette. Jeg har bare tiden og veien og gå, så dette er veldig vanskelig. Trøndelag Senter for Samtid skunst er en kunstnerstyrt for midlingsinstitusj on. Erlend Leirdal er en kjent skulp tør og billedhugger fra Trond heim. Med kunstnere som fore ldre har han siden han var liten nærmest konsekvent arbeidet med tre som materiale og forsket på og utfordret dette mediet. Han er kjent gjennom en rekke utstillinger i inn- og utland samt mange større utsmykkinger. Leridal er også representert i flere viktige samlinger, blant an net véd Nasjonalmuseet, Sørlan det Kunstmuseum og ved Trondheim Kunstmuseum. Han har sittet i Norsk Kulturråd, ut valg for visuell kunst og har vært i ledelsen for flere større kunst prosjekter. Har bred erfaring med formidling og undervisn ing, mellom annet flere år på fa kultet for arkitektur ved NTNU. Leridal får stadig tips om trev erk som ligger rundt omkring, og slik var det også denne gangen. - Jeg har hatt et kjempegodt samarbeid med karene ved Stik lestad Nasjonale Kultursenter. De synes det som har skjedd er svært trasig. Det hele virker full stendig meningsløst, men jeg håper det får en god slutt.',\n",
       "               'location': '2016',\n",
       "               'caption': 'ved Trondheim Kunstmuseum Han har sittet i Norsk Kulturråd, ut valg for visuell kunst og har vært i ledelsen for flere større kunst prosjekter Har bred erfaring med formidling og undervisn ing, mellom annet flere år på fa kultet for arkitektur ved NTNU Leridal får stadig tips om trev erk som ligger rundt omkring, og slik var det også denne gangen -...',\n",
       "               'score': 1.352175235748291,\n",
       "               'index': 'srch-index-csv'}),\n",
       "             ('drammenstidendeogbuskerudblad_null_null_19980428_0_96_1_MODSMD_ARTICLE78',\n",
       "              {'title': 'drammenstidendeogbuskerudblad_null_null_19980428_0_96_1_MODSMD_ARTICLE78',\n",
       "               'name': 'newspaper_ocr',\n",
       "               'chunk': 'Dag Vatles siste maleri handler om ansikter i landskap. - Maleriet er både en skisse og et bilde på samme tid, sier Dag Vatle som i helgen åp net utstilling i Gol kunstforening. Dette er en lek med former, et spill mellom landskap og ansikter om hvem som skal dominere, forklarer han. Vatle har stilt ut i Galleri Gol fire ganger tidligere. Denne gangen viser han akryl- og oljemåleri, og akvareller. Vatle er seiv fra Gol. De siste årene har han bodd i Oslo, der han ved siden av egen praksis driver en malerskole. Dag Vatle debuterte i Sorenskriver gården på Nesbyen i 1989. I påsken hadde han utstilling i Sverige, og et par dager før åpningen i Galleri Gol kjøpte Buskerud fylke tre store bilder av den 35 år gamle kunstneren. Ut stillingen på Gol varer til 10. mai. Dag Vatle stiller ut på hjemtnebane i Gol kunstforening, med sitt siste bilde: Ansikter i landskap.',\n",
       "               'location': '1998',\n",
       "               'caption': 'helgen åp net utstilling i Gol kunstforening Dette er en lek med former, et spill mellom landskap og ansikter om hvem som skal dominere, forklarer han Vatle har stilt ut i Galleri Gol fire ganger tidligere Denne gangen viser han akryl- og oljemåleri, og akvareller Vatle er seiv fra Gol De siste årene har han bodd i Oslo, der han ved siden av egen p...',\n",
       "               'score': 1.310431957244873,\n",
       "               'index': 'srch-index-csv'}),\n",
       "             ('VG-20120725-10059249-5',\n",
       "              {'title': 'VG-20120725-10059249-5',\n",
       "               'name': 'newspapers_online_nb',\n",
       "               'chunk': 'Siden 1. juli har Hangzhou internasjonale freds- og konferansesenter stilt ut en rekke tredimensjonale bilder litt utenom det vanlige. De er malt slik at de blir mer fullkomne hvis folk stiller seg opp foran dem og gjør seg til med morsomme ansiktsutrykk eller pene smil. Kunstutstillingen heter Magic Art spesialutstilling 2012, og holder åpent fram til 6. august. Utstillingen har blitt svært populær i den kinesiske byen, fordi den endrer standarden som er satt for hvordan man observerer kunst, skriver International Business News. Vanligvis kan man ikke ta på bilder som er stilt ut, men i Magic Art-utstillingen er det nesten en nødvendighet at man må gjøre det. Bildene er malt av 15 forskjellige sørkoreanske kunstnere som har brukt en teknikk som skaper illusjoner, kalt anamorfose. De har brukt fire måneder på bildene.',\n",
       "               'location': '2021',\n",
       "               'caption': 'nesten en nødvendighet at man må gjøre det. Bildene er malt av 15 forskjellige sørkoreanske kunstnere som har brukt en teknikk som skaper illusjoner, kalt anamorfose De har brukt fire måneder på bildene..\\x00 det vanlige De er malt slik at de blir mer fullkomne hvis folk stiller seg opp foran dem og Kunstutstillingen heter Magic Art spesialutstilling ...',\n",
       "               'score': 1.3085170984268188,\n",
       "               'index': 'srch-index-csv'}),\n",
       "             ('telemarkarbeiderblad_null_null_19900406_68_82_1_MODSMD_ARTICLE88',\n",
       "              {'title': 'telemarkarbeiderblad_null_null_19900406_68_82_1_MODSMD_ARTICLE88',\n",
       "               'name': 'newspaper_ocr',\n",
       "               'chunk': \"«Jeg er innfødt Skiensmann - snart den eneste som er igjen», sa han for nokre år sida. Det var da han hadde si første separatutstil ling. For Fridtjof var målar og. Han skreiv dikt. song viser, og var diktets Venners kjære sekre tær i årevis saman med Paula. Dei to har. vore med frå vi tok åt i 1958.-Det var Fritjof som kom med protokoll og utklippsbok. og fekk «orden» på oss. Den fyldige årsberetninga frå 25 år i diktte nesta var og Fridtjofs verk. Diktaren Elling M. Solheim var nær ven av Lunders. Han var bunden til sjukesenga i mange år. men' Fridtjof fekk ordna med sjukebil og overnatting her så Solheim skulle koma til Diktets Venners store årvisse Venstøp : kveld, og lesa eigne dikt. Vi gledde oss storleg, både han og vi. men motet svikta i siste liten. Han fekk den glede, likevel, at alt var lagt til rette av Fridtjof, og at han las dikta for venen sin. Mykje kunne han. mangt dreiv han med, eg undra meg- somtjd når han fekk tid til å arbeide på Behå. men han var der i vel 20 år. Ein allsidig Skiens-mann. Vi som er glade i Skien er glad det finst att fleire! Men det er tomt etter Fridtjof. «Jeg har en enestående familie, de stiller opp døgnet rundt, jeg er så stolt av dem». sa han sist eg var hjå dei i førre veka. Vi las dikt saman, tala om. farne tider, om i dag. i morgon... Om kva dø den er. kor rikt eit liv han hadde levd desse 84 år. Dei var rolege og klåre, desse to som no venta «siste gjesten», og såg han trygt i auga. Eldste oldebarn. Unni..hadde gjeve oldefar, eit vakkert bilete: Elling M. Solheim-diktet «En dag...»' og skreve med utsøkt skrift og blomar over. Stolte og glade synte dei meg dette, frå ei ungjente: «En dag klyver du opp på en kolle . og hauker din glede ut. Ekkoet kommer, langtsomt syngendc med bud fru de tre: DEN DU VAR, DEN DU ER, DEN DU BLIR». «Så losna siste lenkja som den edle ånda batt...» .\",\n",
       "               'location': '1990',\n",
       "               'caption': '«Jeg er innfødt Skiensmann - snart den eneste som er igjen», sa han for nokre år sida Det var da han hadde si første separatutstil ling For Fridtjof var målar og Han skreiv dikt. song viser, og var diktets Venners kjære sekre tær i årevis saman med Paula Dei to har. vore med frå vi tok åt i 1958.-Det var Fritjof som kom med protokoll og utklippsbok...',\n",
       "               'score': 1.2487744092941284,\n",
       "               'index': 'srch-index-csv'}),\n",
       "             ('telemarkarbeiderblad_null_null_19920826_70_197_1_MODSMD_ARTICLE111',\n",
       "              {'title': 'telemarkarbeiderblad_null_null_19920826_70_197_1_MODSMD_ARTICLE111',\n",
       "               'name': 'newspaper_ocr',\n",
       "               'chunk': 'Hva med en trebåt til 3,6 millioner? KRAGERØ: Det har i uminnelige tider vært bygd båter på Borteid - men Kragerø Trebåtbyg geri er ikke mer enn 8-9 år gammelt. for seks mann, sier sje fen, Tore Ramberg. Men tre generasjoner er knyt ta til bedriften. Hovedtypen blant båtene som kommer fra Kragerø Trebåtbyg geri er en plattgatter i mahogny og oregon pine, og som bygges både i 25 og 26 fot. Den oppnåd de å bli kåret til «Årets båt» ved trebåtfestivalen i Risør i fjor, og året før fikk bedriften Kragerø kommunes håndverkerpris. klusiv slepejolle er også velkjente Erodukter som bygges ved båt yggeriet. Og inne i hallen er en 50 fot stor båt under bygging: Solid kundekrets - Privat, sier Ramberg. Drømmen er å få solgt en slik båt en gang, # men slik situasjonen er nå ser jeg sjansene som små. Det skal bli en kgtsjrigget klip per, som ferdig vil koste 3,6 mil lioner! Ikke så mange som satser gå det i dag, antakelig, sjøl om . høyt økonomisk nivå - og at båt byggeriet har en solid kundekrets. Frisene på båtene varierer fra 20 000 kroner til altså 3-4 millio ner. Plattgatteren på 25-26 fot kommer på 400 000-500 000 kro ner. Frisene varierer mest i for bindelse med utstyr og motor. På spørsmål om hvor båtene blir solgt svarer Ramberg; - Stort sett her i distriktet - men bare til som mergjester. som er å regne med og hvor det er ansatt folk. - Er interessen for trebåter blitt større igjen? - Den har nok tatt seg litt opp i forhold til da plasten kom for fullt på 70-tallet. Noen revolusjon til bake til slik det var tidligere blir det aldri - men trebåtene vil heller aldri blir helt borte. -Folk er skremt av vedlike holdet. Men var ikke det litt av sjarmen med å ha båt? ikke er noen sjarm, bare ork. Og jeg tror nok at en av grunnene til at vi selger så mange trebåter, er at vi tilbyr en pakke; Med i salget er adgang til opplagsplass og fer digpussa båt nver vår. De som har så mange penger, at de har råd til hytte, landsted, trebåt, har det nok også så travelt at de ikke har tid til å ta pussen og samtidig kunne nyte båtlivet to-tre uker i ferien. Det har kanskje pensjonister, sier Ramberg. EN NY PLATTGATTER: Simon Kurt Vikre jr. i arbeid på en 26 fots Classic plattgatter - det som vi vel kan kalle «flaggskipet» på Krage rø Trebåtbyggeri. FOTO:',\n",
       "               'location': '1992',\n",
       "               'caption': '- Den har nok tatt seg litt opp i forhold til da plasten kom for fullt på 70-tallet Noen revolusjon til bake til slik det var tidligere blir det aldri - men trebåtene vil heller aldri blir helt borte -Folk er skremt av vedlike holdet Men var ikke det litt av sjarmen med å ha båt? ikke er noen sjarm, bare ork Og jeg tror nok at en av grunnene til at...',\n",
       "               'score': 1.2280943393707275,\n",
       "               'index': 'srch-index-csv'}),\n",
       "             ('wikipedia_download_nbo_RushLimbaugh_304353',\n",
       "              {'title': 'wikipedia_download_nbo_RushLimbaugh_304353',\n",
       "               'name': 'wikipedia_download_nbo',\n",
       "               'chunk': \"'''Rush Hudson Limbaugh III''' (født 12. januar 1951, død 17. februar 2021) var en amerikansk talkshow-vert og konservativ politisk kommentator. Limbaugh ble født inn i en familie med en lang historie og engasjement i republikansk politikk. Han begynte som tenåring å jobbe i en lokal radiostasjon, under kallenavnet Rusty Sharpe. Etter å ha hoppet av fra college, flyttet Limbaugh til Pennsylvania. I 1972 begynte han som discjockey i en liten lokal radiostasjon i Pittsburgh-området. I 1973 flyttet Limbaugh til Pittsburgh og begynte ved en annen radiostasjon. Her fikk han i slutten av 1974 sparken, da stasjonen ble solgt til Taft Broadcasting. I 1984, etter en rekke radio-relaterte jobber, begynte han som talkshow-vert ved radiostasjonen KFBK i Sacramento i California. Limbaugh flyttet til New York i 1988, der han begynte med nasjonal kringkasting i radiokanalen WABC. Sendingene hans vokste i popularitet, og han ble vert for ''The Rush Limbaugh Show'', som ble sendt over hele USA på Premiere Radio Networks. Dette ble etter hvert et av de høyest rangerte radio-programmene i USA. På 1990-tallet vokste Limbaughs berømmelse utover radio, til bøker og TV. Han ble en bestselgende forfatter med bøkene ''The Way Things Should Be'' (1992) og ''See, I Told You So'' (1993). Fra 1992 til 1996 var han vert for et 30 minutter langt talkshow på tv. Limbaugh kritiserte ofte liberale politikere og Det demokratiske partiet. I nær familie hadde han flere advokater, inkludert en bestefar, far og bror. Onkelen ble oppnevnt av Ronald Reagan til føderal dommer i Missouri. Fetteren er også dommer i den samme retten, utnevnt av daværende president George W. Bush. I 1992 ble demokraten Bill Clinton valgt til president i USA. Limbaugh latterliggjorte både politikken hans og den nye førstedamen Hillary Clinton. I 2001 innrømmet Limbaugh at han var blitt nesten helt døv, men han fortsatte likevel sitt populære radioshow. Ved hjelp av implantater fikk han igjen mye av hørselen. I 2003 arbeidet Limbaugh i en kortere periode som fotballkommentator, frem til han et par uker inn i NFL-sesongen samme år trakk seg. Limbaugh har ofte blitt brukt som stereotyp for en konservativ talkshow-vert, ikke minst i mange tv-programmer og filmer, inkludert en episode av den animerte TV-serien ''Simpsons''. Den 30. januar 2010 ble Limbaugh utnevnt til dommer for 2010 Miss America Pageant i Las Vegas. Han stiller seg kritisk til miljøvern og har bestridt at den globale oppvarmingen er menneskeskapt. Limbaugh er også kritisk til feminismen og støtter dødsstraff. Da fangemishandlingen i Abu Ghraib ble kjent, uttalte Limbaugh: «Dette er ikke annerledes enn hva som skjer under en innvielse til Skull and Bones.» Skull and Bones er et selskap for studenter ved Yale University. Fra National Association of Broadcasters ble Limbaugh tildelt Marconi Radio Award i 1992, 1995, 2000 og 2005. I 2002 rangerte ''Talkers Magazine'' ham som den største talkshow-verten på radio gjennom tidene. Limbaugh har vært gift fire ganger og har ingen barn. Han ble først gang gift i en alder av 26 år, med Roxy Maxine McNeely, en sekretær ved en radiostasjon i Kansas City i Missouri. McNeely søkte om skilsmisse i mars 1980, på grunn av «inkompatibilitet». De ble formelt skilt den 10. juli 1980. I 1983 giftet Limbaugh seg med Michelle Sixta. De tok ut skilsmisse i 1990, og hun giftet seg på nytt året etter. 27. mai 1994 giftet Limbaugh seg med Marta Fitzgerald, en 35 år gammel aerobicinstruktør han møtte i 1990. De ble skilt 11. juni 2004. Han giftet seg med Kathryn Rogers fra Florida den 5. juni 2010. I januar 2020 påviste en medisinsk undersøkelse at Limbaugh led av uhelbredelig lungekreft. Han døde litt over ett år senere, 17. februar 2021. * Koran-Burning Preacher Terry Jones and Rush Limbaugh: Class of 69, Cape Central High School Girardeau History and Photos (yearbook photos)\",\n",
       "               'location': '2021',\n",
       "               'caption': 'Han døde litt over ett år senere, 17. februar 2021 * Koran-Burning Preacher Terry Jones and Rush Limbaugh: Class of 69, Cape Central High School Girardeau History and Photos (yearbook photos).\\x00 Da fangemishandlingen i Abu Ghraib ble kjent, uttalte Limbaugh: «Dette er ikke annerledes enn hva som skjer mai 1994 giftet Limbaugh seg med Marta Fitzgeral...',\n",
       "               'score': 1.1193320751190186,\n",
       "               'index': 'srch-index-csv'}),\n",
       "             ('romerikesblad_null_null_20040704_103_175_1_MODSMD_ARTICLE68',\n",
       "              {'title': 'romerikesblad_null_null_20040704_103_175_1_MODSMD_ARTICLE68',\n",
       "               'name': 'newspaper_ocr',\n",
       "               'chunk': '«Vi gir alt, alt for Norge», drønner det ira høyttalerne i den vesle kinosalen på FotbaUmuseet. Nils Johan Semb fremdeles som landslagssjef, men det er vel også eneste nødvendige oppdatering i «Det kuleste museet i Oslo», ifølge en kåring foretatt av Aftenposten. -1 løpet av kort tid kommer en ny film på plass. Der spiller Åge Harei de hovedrollen, forklarer omviser Møyfrid Pedersen. FotbaUmuseet i Ullevaal-komp lekset venter seg 30.000 besøkende i år. Den mest hektiske perioden er like før og under Norway Cup. - Svært mange av de besøkende er nemlig unge spillere og deres le dere, men akkurat nå er det først og fremst ferierende familier som tråkker rundt og koser seg hos oss. De fleste bruker omkring tre kvar ter på en gjennomgang. Den største målgruppa er gutter og jenter mellom åtte og 15 år, og Norges Fotballforbund synes at ste det er mer opplevelsessenter enn museum. Det stemmer! - Hva fenger mest? - De yngste tilbringer mye tid i spillerommet, enkelte må nesten bæres ut derfrå! drabantbyer som løper rundt i loka let på kryss og tvers, på leting etter 12 riktige svar i «Tipp & vinn». - Alle som besøker museet kan delta i vår faste tippekonkurranse, der 10,11 og 12 rette premieres. Tre av spørsmålene på denne da gens kupong lyder slik: «Hvem la pasningen til Kjetil Rekdal da han lagde Norges eneste mål i VM-sluttspillet i 1994?» «Mot hvilken nasjon scoret Jan Åge Fjørtoft sitt første mål i en VM kvalifiseringskamp?» «Hvilke to brødre er de eneste som har scoret mål i samme A landskamp?» Om du blir skremt over vanske lighetsgraden, kan det være greit å ha tre alternative svar å velge mel lom. En annen akti vitet som fenger * er «Prøv deg som dommer», ! med små video snutter og nøtter som skal besva res. presentert temavis og svært så godt tilgjengelig. Det er bare å trykke seg fram til ønsket arena. De besøkende får vite at Vito fra Eidsvoll spilte den første juniorfi nalen i fotball mot Skeid i 1953. Vå re lokale helter tapte riktig nok 2-6, men de spilte seg i hvert fall inn i historiebøkene! Og de kan lese at britene lanserte de første og grunnleggende reglene så langt tilbake i tid som i 1863. Først 12 år senere ble tauet erstattet med tverrligger, og det var i 1878 at dommerne tok i bruk fløyte. Hjør nesparket ble introdusert i 1872. Også videre... Den første fotballkampen på norsk jord ble spilt i 1886. Men det tok sannelig tid før landslaget vant en kamp. Ti år! Ballen fra seierskampen på Frogner |i stadion i 1918 er selvsagt å ■ finne i en glassmonter her. ■ Sportslige høydepunk- I ter er i hele tatt viet stor I oppmerksomhet, med ge- I nuine opptak fra så vel I radio som fjernsyn. mest blant de besøkende. Alle må ha med seg det, der Arne Scheie, opprinnelig frå Skedsmo, bobler over av entusiasme. Scheie, ja. Han har også fått æren av å presentere alle dem som er fun net verdig en plass blant figurene i «Stjernegalleriet». Tom Lund, Hege Riise og Hen ning Berg er den lokale trioen i det fornemme galleriet. Hallvar Thore sen og Marianne Pettersen er også med her, men de er ikke fullblods romerikinger. Vi mente også å dra kjensel på Erik Soler, men det viste seg å være Arne Brustad, måltyven fra Lyn på 1930- og 1940-tallet. Selvsagt er landslagets gullalder med Egil Olsen som suksesstrener nøyt verdsatt. Seiv landslagssjefens berømte gummistøvler finnes be vart her, oppstilt på en benk uten for et spesialbygget fly, «Drillo-fly et» fra 1990-tallet. Gulljentene fra OL i 2000 får også mye blest. Den organiserte kvinne fotballen er bare 25 år gammel, men har fått den oppmerksomheten den fortjener. Og takk for det. Av bedre nostalgia finnes siga rettkort med gamle stjernespillere, drakter, fotballer, programmer og ikke minst tidligere tiders støvler. Seiv drømte vi oss tilbake til Årnes stadion og lilleputtfotball på 1960- tallet ved synet av «Vikings gum mi». Konkurrenten «Romika» var ikke verken like tøff eller god å ha på foten. Om noen får tårer i øynene ved synet av gamle støvler, får andre sikkert vann i munnen ved synet av Finsbråtens pølser med tilhørende beholder. Fotball og varme pølser hører fortsatt sammen. Akkurat på det området har ikke verden foran dret seg. kjell.aasum@rb. TOM OG HALLVAR: Tom Lund og Hallvar Thoresen står side om side i «Stjernegalleriet». Figurene er i plastikk. STØVLER: Museet viser ikke bare fotbal støvler, men også Drillos «pæler». OPPLEVELSE: Håkon Lunde Hansen synes det er gøy å bli avbildet sam men med John Carew. På «lissom». SPILL: Benjamin og Andreas slo seg riktig løs i avdeling PlayStation. 1998: I denne drakta og med disse støvlene scoret Kjetil Rekdal mot Brasil i 1998-VM.',\n",
       "               'location': '2004',\n",
       "               'caption': 'Om noen får tårer i øynene ved synet av gamle støvler, får andre sikkert vann i munnen ved synet av Finsbråtens pølser med tilhørende beholder Fotball og varme pølser hører fortsatt sammen Akkurat på det området har ikke verden foran dret seg. kjell.aasum@rb TOM OG HALLVAR: Tom Lund og Hallvar Thoresen står side om side i «Stjernegalleriet» Figuren...',\n",
       "               'score': 1.021292805671692,\n",
       "               'index': 'srch-index-csv'}),\n",
       "             ('arbeiderbladetoslo_null_null_19490711_62_158_1_MODSMD_ARTICLE46',\n",
       "              {'title': 'arbeiderbladetoslo_null_null_19490711_62_158_1_MODSMD_ARTICLE46',\n",
       "               'name': 'newspaper_ocr',\n",
       "               'chunk': 'Han gikk og han går Landpostbud Einar Naust vik fra Nordmøre kunne 1. juli se tilbake på 30 års vandring med posten. Han har gått ruten «Nordlandet rundt», og sammenlagt er det tre og en halv gang jorden rundt, melder «Ti dens Krav». Lederen for et amerikansk jazzband, Leo Sunny, har bokstavelig talt stilt sitt orkester opp-ned, idet alle medlemmene står på nodet når de spiller. Sjøl påstår han at dette gir bedre sam spill og har i lengre tid praktisert denne stillingen, som på ingen måte forår saker hodepine, men bare har en gunstig virkning på den musikalske prestasjo nen. På en restaurant i Bor deaux ble en mann nylig stukket ned med kniv un der særegne omstendighe ter. Manneh ytret noe om at suppa som ble servert snautt nok var brukbar som hundemat. Dermed sprang en kjøkkengutt inn i rasende fart og stakk ned kritikeren med en kniv.',\n",
       "               'location': '1949',\n",
       "               'caption': 'Lederen for et amerikansk jazzband, Leo Sunny, har bokstavelig talt stilt sitt orkester opp-ned, idet alle medlemmene står på nodet når de spiller Sjøl påstår han at dette gir bedre sam spill og har i lengre tid praktisert denne stillingen, som på ingen måte forår saker hodepine, men bare har en gunstig virkning på den musikalske prestasjo nen På e...',\n",
       "               'score': 1.0166972875595093,\n",
       "               'index': 'srch-index-csv'}),\n",
       "             ('tidenskrav_null_null_19990301_90_50_1_MODSMD_ARTICLE17',\n",
       "              {'title': 'tidenskrav_null_null_19990301_90_50_1_MODSMD_ARTICLE17',\n",
       "               'name': 'newspaper_ocr',\n",
       "               'chunk': 'OSLO: En 54 år gammel mann fra Fredrikstad slipper fengsels straff seiv om han har innrømmet å ha å ha smuglet ni kilo hasj til Norge fra Spania. I stedet ble han idømt 360 dagers samfunnste neste som vaktmester. - Jeg vil nødig kommentere rettens argumenter for å idømme samfunnsteneste, men ut fra til talens alvorlige omfang er det ing en tvil om at dommen er meget oppsiktsvekkende, sier Elisabeth Gorgas til Fredrikstad Blad. Hun var aktor i saken mot hasjkure ren. 54-åringen har 20 tidligere dommer, men er i en rehabilite ringsfase. Det mente sakens to meddommere måtte veie tyngst når straffen skulle utmåles. «Seiv om det nå er gått over ett og et halvt år siden forbrytelsen, og tiltalte i denne perioden har vist klare tegn til rehabilitering, finner rettens mindretall at det her er snakk om en så grov for brytelse at straffen må være ve sentlig strengere enn 360 timers samfunnsteneste», heter det i dommen. Promillekjøring? En mann fra Averøy er mistenkt for promillekjøring, etter at han natt til lørdag ble stanset på Kår våg. Alkotesten ga utslag, og der med måtte mannen bli med til blodprøve.',\n",
       "               'location': '1999',\n",
       "               'caption': 'OSLO: En 54 år gammel mann fra Fredrikstad slipper fengsels straff seiv om han har innrømmet å ha å ha smuglet ni kilo hasj til Norge fra Spania I stedet ble han idømt 360 dagers samfunnste neste som vaktmester - Jeg vil nødig kommentere rettens argumenter for å idømme samfunnsteneste, men ut fra til talens alvorlige omfang er det ing en tvil om at...',\n",
       "               'score': 1.0136334896087646,\n",
       "               'index': 'srch-index-csv'}),\n",
       "             ('VG-20161209-sommerstuga-drapet-k-5',\n",
       "              {'title': 'VG-20161209-sommerstuga-drapet-k-5',\n",
       "               'name': 'newspapers_online_nb',\n",
       "               'chunk': 'Kvinnen er nå siktet for å ha injisert ektemannen sin med gift under en ferietur i Egypt i 2015, skriver den svenske avisen VLT. Han ble senere samme år funnet død i en innsjø i Sverige. Etterforskningsleder Johan Fahlander vil ikke kommentere saken utover at kvinnen er siktet for ytterligere et straffbart forhold. En av mannens slektninger har tidligere fortalt Aftonbladet at mannen trodde kvinnen injiserte ham med gift. – Han var alltid veldig redd og han visste ikke hvordan hun hadde gjort det, men han oppdaget et nålestikk i armen. Jeg møtte han da han kom hjem og armen var hovnet opp og nålestikkene var tydelige, uttalte slektningen. Den 41 år gamle kvinnen og en 18 år gammel mann er fra før siktet for å ha drept kvinnens far og for å ha forsøkt å drepe kvinnens mor i et sommerhus ved innsjøen Hjälmaren i august i år. Les mer: Politiet mener kvinnen inngikk en avtale med kjæresten (18) Den 8. august i år ble kvinnens ektefelle funnet død i innsjøen Hjälmaren utenfor Arboga i Västmanland i Sør-Sverige. Politiet mistenker at han kan ha blitt drept. Få dager tidligere ble kvinnens far funnet død og moren skadd i familiens sommerhus i Arboga. Kvinnen og mannen ble pågrepet i Trondheim 30. august i år og ble varetektsfengslet i Västmanlands tingrett. fredag 2. september.',\n",
       "               'location': '2021',\n",
       "               'caption': 'Les mer: Politiet mener kvinnen inngikk en avtale med kjæresten (18) Den 8. august i år ble kvinnens ektefelle funnet død i innsjøen Hjälmaren utenfor Arboga i Västmanland i Sør-Sverige Politiet mistenker at han kan ha blitt drept Få dager tidligere ble kvinnens far funnet død og moren skadd i familiens sommerhus i Arboga Kvinnen og mannen ble pågr...',\n",
       "               'score': 1.0136334896087646,\n",
       "               'index': 'srch-index-csv'})])"
      ]
     },
     "execution_count": 17,
     "metadata": {},
     "output_type": "execute_result"
    }
   ],
   "source": [
    "# Uncomment the below line if you want to inspect the ordered results\n",
    "ordered_results"
   ]
  },
  {
   "cell_type": "markdown",
   "id": "235d4238-df6e-40eb-ab38-4fe6db614acd",
   "metadata": {},
   "source": [
    "Now let's create a Prompt Template that will ground the response only in the chunks retrieve by our hybrid AI Search."
   ]
  },
  {
   "cell_type": "code",
   "execution_count": 18,
   "id": "f86ed786-aca0-4e25-947b-d9cf3a82665c",
   "metadata": {},
   "outputs": [],
   "source": [
    "template = \"\"\"Answer the question thoroughly, based **ONLY** on the following context:\n",
    "{context}\n",
    "\n",
    "Question: {question}\n",
    "\"\"\"\n",
    "prompt = ChatPromptTemplate.from_template(template)"
   ]
  },
  {
   "cell_type": "code",
   "execution_count": 21,
   "id": "25cba3d1-b5ab-4e28-96b3-ef923d99dc9f",
   "metadata": {},
   "outputs": [
    {
     "name": "stdout",
     "output_type": "stream",
     "text": [
      "Noen preges mer av kunsten enn andre. En 70 år gammel mann ble lørdag rammet av et akutt illebefinnende i Uffizi-galleriet i Firenze, Italia. Hva skjedde? \n"
     ]
    },
    {
     "data": {
      "text/markdown": [
       "En 70 år gammel mann ble rammet av et akutt illebefinnende i Uffizi-galleriet i Firenze, Italia. Det er uklart om det var en hjertestans eller et hjerteinfarkt. Heldigvis var en gruppe kardiologer til stede og behandlet ham på stedet. Ifølge rapporter kan anfallet ha vært forårsaket av renessansemaleren Sandro Botticellis maleri «Venus' fødsel» fra 1486, og ikke av rødt kjøtt eller sigaretter."
      ],
      "text/plain": [
       "<IPython.core.display.Markdown object>"
      ]
     },
     "metadata": {},
     "output_type": "display_data"
    },
    {
     "name": "stdout",
     "output_type": "stream",
     "text": [
      "CPU times: user 17.7 ms, sys: 801 μs, total: 18.5 ms\n",
      "Wall time: 1.76 s\n"
     ]
    }
   ],
   "source": [
    "%%time \n",
    "# Creation of our custom chain\n",
    "chain = prompt | llm | output_parser\n",
    "\n",
    "print(QUESTION)\n",
    "try:\n",
    "    display(Markdown(chain.invoke({\"question\": QUESTION, \"context\": ordered_results})))\n",
    "except Exception as e:\n",
    "    print(e)"
   ]
  },
  {
   "cell_type": "markdown",
   "id": "406c2b91-6752-4ea2-b95c-d1a52dbdd62b",
   "metadata": {},
   "source": [
    "### From GPT-3.5 to GPT-4\n",
    "\n",
    "Now let's see how the response changes if we change to GPT-4\n"
   ]
  },
  {
   "cell_type": "code",
   "execution_count": 18,
   "id": "f01705f1-7194-452b-a170-c09ba7752b1d",
   "metadata": {},
   "outputs": [],
   "source": [
    "llm_2 = AzureChatOpenAI(deployment_name=os.environ[\"GPT4_DEPLOYMENT_NAME\"], temperature=0.5, max_tokens=COMPLETION_TOKENS)\n",
    "chain = prompt | llm_2 | output_parser"
   ]
  },
  {
   "cell_type": "code",
   "execution_count": 19,
   "id": "4c83bb17-36d3-4eb6-ae6f-9c68f3033d2b",
   "metadata": {},
   "outputs": [
    {
     "data": {
      "text/markdown": [
       "Based on the provided context, several medicines and treatments have been identified to reduce inflammation in the lungs:\n",
       "\n",
       "1. **Interleukin-22 (IL-22):** Administering recombinant IL-22 in vivo reduces inflammation and fluid leak into the lung, demonstrating that the IL-22/IL-22BP axis is a potential pathway for reducing influenza-induced pneumonia.\n",
       "\n",
       "2. **Chloroquine:** In human lung parenchymal explants, a clinically achievable concentration of chloroquine inhibited the lipopolysaccharide-induced release of inflammatory cytokines (TNF-α, IL-6, CCL2, and CCL3) significantly, suggesting its role in mitigating the cytokine storm associated with severe pneumonia caused by coronaviruses.\n",
       "\n",
       "3. **Escin:** Suggested for its potent anti-inflammatory and anti-viral effects in lung injury, indicating it could be a therapeutic opportunity as add-on therapy in Acute Lung Injury (ALI) related to COVID-19 infection.\n",
       "\n",
       "4. **Corticosteroids:** Known for their anti-inflammatory effects, corticosteroids are considered effective in chronic inflammatory and immune diseases like asthma, though their effectiveness varies among different patient groups.\n",
       "\n",
       "5. **Tanshinone IIA (TIIA):** Demonstrated to notably attenuate Bleomycin-induced Pulmonary Fibrosis (PF) and inflammation in rats, indicating it may exert protective effects through the ACE-2/ANG-(1-7) axis.\n",
       "\n",
       "6. **Low doses of radiation therapy (RT):** Shown to increase the immunosuppressive profile of lung macrophages via IL-10 production and IFNγ/IL-6 suppression, suggesting a therapeutic strategy to counteract lung inflammation.\n",
       "\n",
       "7. **Tocilizumab (Interleukin-6 blockade):** Demonstrated to curb the \"cytokine storm,\" prevent ICU admission, and the requirement for mechanical ventilation in highly selected patients with severe COVID-19.\n",
       "\n",
       "8. **Antibiotics (Macrolides and Ketolides):** Indicated for their anti-inflammatory effects on the chronically inflamed airways in addition to their anti-infective action, especially in the context of asthma exacerbated by atypical respiratory pathogens.\n",
       "\n",
       "9. **Noscapine:** Used for the treatment of cough, has been shown to inhibit bradykinin enhanced cough response, indicating a potential role in attenuating cytokine release associated with SARS-CoV-2.\n",
       "\n",
       "These treatments vary in their mechanism of action, from directly targeting cytokines involved in inflammation (like IL-22 and IL-6 blockade) to more broad anti-inflammatory effects (such as corticosteroids and chloroquine). Some are specific to certain conditions (e.g., Escin for COVID-19 related ALI, TIIA for pulmonary fibrosis), while others have a more general application in reducing lung inflammation."
      ],
      "text/plain": [
       "<IPython.core.display.Markdown object>"
      ]
     },
     "metadata": {},
     "output_type": "display_data"
    },
    {
     "name": "stdout",
     "output_type": "stream",
     "text": [
      "CPU times: user 19.3 ms, sys: 533 µs, total: 19.9 ms\n",
      "Wall time: 15.9 s\n"
     ]
    }
   ],
   "source": [
    "%%time\n",
    "try:\n",
    "    display(Markdown(chain.invoke({\"question\": QUESTION, \"context\": ordered_results})))\n",
    "except Exception as e:\n",
    "    print(e)"
   ]
  },
  {
   "cell_type": "markdown",
   "id": "92a28869-13c1-463e-8285-9870e6ac1946",
   "metadata": {},
   "source": [
    "#### As we can see, the model selection MATTERS!\n",
    "\n",
    "We will dive deeper into this later, but for now, **look at the diference between GPT3.5 and GPT4, in quality and in response time**."
   ]
  },
  {
   "cell_type": "markdown",
   "id": "417925af-486a-40bc-a290-28c35968c581",
   "metadata": {},
   "source": [
    "# Improving the Prompt and adding citations\n",
    "\n",
    "We could see above that the answer given by GPT3.5 was very simple compared to GPT4, even when the prompt says \"thorough responses to users\". We also could see that there is no citations or references. **How do we know if the answer is grounded on the context or not?**\n",
    "\n",
    "Let's see if these two issues can be improved by Prompt Engineering.<br>\n",
    "On `common/prompts.py` we created a prompt called `DOCSEARCH_PROMPT` check it out!\n",
    "\n",
    "**Let's also create a custom Retriever class** so we can plug it in easily within the chain building. \n",
    "Note: we can also use the Azure AI Search retriever class [HERE](https://python.langchain.com/docs/integrations/vectorstores/azuresearch), however we want to create a custom Retriever for the following reasons:\n",
    "\n",
    "1) We want to do multi-index searches in one call\n",
    "2) Easier to teach complex concepts of LangChain in this notebook\n",
    "3) We want to use the REST API vs the Python Azure Search SDK"
   ]
  },
  {
   "cell_type": "code",
   "execution_count": 22,
   "id": "bdf31f99-0dfb-423a-81f5-03018e61d9a9",
   "metadata": {},
   "outputs": [],
   "source": [
    "class CustomRetriever(BaseRetriever):\n",
    "    \n",
    "    topK : int\n",
    "    reranker_threshold : int\n",
    "    indexes: List\n",
    "    sas_token: str = None\n",
    "    \n",
    "    def _get_relevant_documents(self, query: str) -> List[Document]:\n",
    "        \n",
    "        ordered_results = get_search_results(query, self.indexes, k=self.topK, \n",
    "                                             reranker_threshold=self.reranker_threshold, \n",
    "                                             sas_token=self.sas_token)\n",
    "        top_docs = []\n",
    "        for key,value in ordered_results.items():\n",
    "            location = value[\"location\"] if value[\"location\"] is not None else \"\"\n",
    "            top_docs.append(Document(page_content=value[\"chunk\"], metadata={\"source\": location, \"score\":value[\"score\"]}))\n",
    "\n",
    "        return top_docs"
   ]
  },
  {
   "cell_type": "code",
   "execution_count": 23,
   "id": "19b39c79-c827-4437-b58b-6a6fae53b968",
   "metadata": {},
   "outputs": [],
   "source": [
    "# Create the retriever\n",
    "retriever = CustomRetriever(indexes=indexes, topK=k, reranker_threshold=1, sas_token=os.environ['BLOB_SAS_TOKEN'])"
   ]
  },
  {
   "cell_type": "code",
   "execution_count": 24,
   "id": "c7aa4f58-4791-40a0-80c5-6582e0574579",
   "metadata": {},
   "outputs": [
    {
     "data": {
      "text/plain": [
       "19"
      ]
     },
     "execution_count": 24,
     "metadata": {},
     "output_type": "execute_result"
    }
   ],
   "source": [
    "# Test retreiver\n",
    "results = retriever.invoke(QUESTION)\n",
    "len(results)"
   ]
  },
  {
   "cell_type": "code",
   "execution_count": 25,
   "id": "11b6546f-b5c5-4168-97fc-2636c50e41c2",
   "metadata": {},
   "outputs": [],
   "source": [
    "# We can create now a dynamically configurable llm object that can change the model at runtime\n",
    "dynamic_llm = AzureChatOpenAI(deployment_name=os.environ[\"GPT4_DEPLOYMENT_NAME\"], \n",
    "                              temperature=0.5, max_tokens=COMPLETION_TOKENS).configurable_alternatives(\n",
    "    # This gives this field an id\n",
    "    # When configuring the end runnable, we can then use this id to configure this field\n",
    "    ConfigurableField(id=\"model\"),\n",
    "    # This sets a default_key.\n",
    "    # If we specify this key, the default LLM  (initialized above) will be used\n",
    "    default_key=\"gpt35\",\n",
    "    # This adds a new option, with name `gpt4`\n",
    "    gpt4=AzureChatOpenAI(deployment_name=os.environ[\"GPT4_DEPLOYMENT_NAME\"], \n",
    "                         temperature=0.5, max_tokens=COMPLETION_TOKENS),\n",
    "    gpt4o=AzureChatOpenAI(deployment_name=os.environ[\"GPT4_DEPLOYMENT_NAME\"], \n",
    "                         temperature=0.5, max_tokens=COMPLETION_TOKENS),\n",
    "    # You can add more configuration options here\n",
    ")"
   ]
  },
  {
   "cell_type": "code",
   "execution_count": 26,
   "id": "d7da2f31-cf5d-4f3a-aad5-67b50b56968e",
   "metadata": {},
   "outputs": [],
   "source": [
    "# Declaration of the chain with the dynamic llm and the new prompt\n",
    "configurable_chain = (\n",
    "    {\n",
    "        \"context\": itemgetter(\"question\") | retriever, # Passes the question to the retriever and the results are assign to context\n",
    "        \"question\": itemgetter(\"question\")\n",
    "    }\n",
    "    | DOCSEARCH_PROMPT  # Passes the input variables above to the prompt template\n",
    "    | dynamic_llm   # Passes the finished prompt to the LLM\n",
    "    | StrOutputParser()  # converts the output (Runnable object) to the desired output (string)\n",
    ")"
   ]
  },
  {
   "cell_type": "code",
   "execution_count": 27,
   "id": "b67200e5-d3ae-4c86-9f69-bc7b964ab532",
   "metadata": {},
   "outputs": [
    {
     "data": {
      "text/markdown": [
       "En 70 år gammel mann fikk et akutt illebefinnende mens han besøkte Uffizi-galleriet i Firenze, Italia. Det er uklart om det dreide seg om en hjertestans eller et hjerteinfarkt. Heldigvis var en gruppe kardiologer også til stede i galleriet og behandlet ham på stedet. Hendelsen ble ikke forårsaket av rødt kjøtt eller sigaretter, men ble tilskrevet renessansemaleren Sandro Botticelli og hans maleri «Venus' fødsel» fra 1486 [[1]](https://example.com/2021sv=2022-11-02&ss=bfqt&srt=sco&sp=rwdlacupiytfx&se=2024-09-19T15:56:50Z&st=2024-09-12T07:56:50Z&spr=https,http&sig=58L%2FTEjMFajQDeoAbH7R5UkwuTxllvEoHpsANoFhmeU%3D)."
      ],
      "text/plain": [
       "<IPython.core.display.Markdown object>"
      ]
     },
     "metadata": {},
     "output_type": "display_data"
    },
    {
     "name": "stdout",
     "output_type": "stream",
     "text": [
      "CPU times: user 26.6 ms, sys: 4.45 ms, total: 31.1 ms\n",
      "Wall time: 3.94 s\n"
     ]
    }
   ],
   "source": [
    "%%time\n",
    "\n",
    "try:\n",
    "    display(Markdown(configurable_chain.with_config(configurable={\"model\": \"gpt35\"}).invoke({\"question\": QUESTION})))\n",
    "except Exception as e:\n",
    "    print(e)"
   ]
  },
  {
   "cell_type": "markdown",
   "id": "8661b48d-1e57-4a70-9b0a-cc59f9093267",
   "metadata": {},
   "source": [
    "As seen above, we were able to improve the quality and breath of the answer and add citations with only prompt engineering!\n",
    "\n",
    "#### Let's try again, but with GPT-4"
   ]
  },
  {
   "cell_type": "code",
   "execution_count": 28,
   "id": "efcfac6b-bac2-40c6-9ded-e4ee38e3093f",
   "metadata": {},
   "outputs": [
    {
     "data": {
      "text/markdown": [
       "En 70 år gammel mann ble rammet av et akutt illebefinnende i Uffizi-galleriet i Firenze, Italia. Det er uklart om det dreide seg om en hjertestans eller et hjerteinfarkt. Heldigvis var en gruppe kardiologer også til stede i galleriet og behandlet ham på stedet. Hendelsen ble rapportert av The Times, og det ble antydet at anfallet kunne ha vært forårsaket av renessansemaleren Sandro Botticelli og hans maleri «Venus' fødsel» fra 1486, snarere enn av rødt kjøtt eller sigaretter [[1]](https://example.com/2021sv=2022-11-02&ss=bfqt&srt=sco&sp=rwdlacupiytfx&se=2024-09-19T15:56:50Z&st=2024-09-12T07:56:50Z&spr=https,http&sig=58L%2FTEjMFajQDeoAbH7R5UkwuTxllvEoHpsANoFhmeU%3D)."
      ],
      "text/plain": [
       "<IPython.core.display.Markdown object>"
      ]
     },
     "metadata": {},
     "output_type": "display_data"
    },
    {
     "name": "stdout",
     "output_type": "stream",
     "text": [
      "CPU times: user 27.9 ms, sys: 1.37 ms, total: 29.2 ms\n",
      "Wall time: 4.11 s\n"
     ]
    }
   ],
   "source": [
    "%%time\n",
    "try:\n",
    "    display(Markdown(configurable_chain.with_config(configurable={\"model\": \"gpt4\"}).invoke({\"question\": QUESTION})))\n",
    "except Exception as e:\n",
    "    print(e)"
   ]
  },
  {
   "cell_type": "markdown",
   "id": "6b54345b-7539-4110-9163-3565fa90d4b3",
   "metadata": {},
   "source": [
    "#### And GPT-4o"
   ]
  },
  {
   "cell_type": "code",
   "execution_count": 29,
   "id": "e79d8270-eebc-4d31-8afa-8263262764f9",
   "metadata": {},
   "outputs": [
    {
     "data": {
      "text/markdown": [
       "En 70 år gammel mann ble rammet av et akutt illebefinnende i Uffizi-galleriet i Firenze, Italia. Det er uklart om det dreide seg om en hjertestans eller et hjerteinfarkt. Heldigvis var en gruppe kardiologer også på besøk i galleriet og behandlet ham på stedet. Ifølge rapporter fra The Times, var det ikke rødt kjøtt eller sigaretter som forårsaket anfallet, men renessansemaleren Sandro Botticelli og hans maleri «Venus' fødsel» fra 1486 som ble nevnt som en mulig årsak [[1]](https://example.com/2021sv=2022-11-02&ss=bfqt&srt=sco&sp=rwdlacupiytfx&se=2024-09-19T15:56:50Z&st=2024-09-12T07:56:50Z&spr=https,http&sig=58L%2FTEjMFajQDeoAbH7R5UkwuTxllvEoHpsANoFhmeU%3D)."
      ],
      "text/plain": [
       "<IPython.core.display.Markdown object>"
      ]
     },
     "metadata": {},
     "output_type": "display_data"
    },
    {
     "name": "stdout",
     "output_type": "stream",
     "text": [
      "CPU times: user 29 ms, sys: 0 ns, total: 29 ms\n",
      "Wall time: 4.1 s\n"
     ]
    }
   ],
   "source": [
    "%%time\n",
    "try:\n",
    "    display(Markdown(configurable_chain.with_config(configurable={\"model\": \"gpt4o\"}).invoke({\"question\": QUESTION})))\n",
    "except Exception as e:\n",
    "    print(e)"
   ]
  },
  {
   "cell_type": "markdown",
   "id": "c93b000a-8d0a-4574-be7c-48d26dfb4c70",
   "metadata": {},
   "source": [
    "#### As you can see the answer from GPT4 is richer, and includes all the relevant chunks. GPT3.5 tends to focus in the first and last chunks only"
   ]
  },
  {
   "cell_type": "markdown",
   "id": "6690453b-a9b1-4907-bd43-8c6b3ecba26e",
   "metadata": {},
   "source": [
    "## Adding Streaming to improve user experience and performance\n",
    "\n",
    "It is obvious by now that **GPT4 answers are better quality than GPT3.5**. None are incorrect, but GPT4 is better at understanding the context, following the prompt instructions and on giving a comprehensive answer.\n",
    "\n",
    "One way to make GPT4 look faster is to stream the answer, so the user can see the response as it is typed. To do this, we just simply need to call the method `stream` instead of `invoke`. More on Streaming and Callbacks in later notebooks, but for now, this is one simple way to do it:"
   ]
  },
  {
   "cell_type": "code",
   "execution_count": 30,
   "id": "6d250c88-5984-438f-8390-1d93756048ab",
   "metadata": {},
   "outputs": [
    {
     "name": "stdout",
     "output_type": "stream",
     "text": [
      "En 70 år gammel mann ble rammet av et akutt illebefinnende i Uffizi-galleriet i Firenze, Italia. Det er uklart om det dreide seg om en hjertestans eller et hjerteinfarkt. Heldigvis var en gruppe kardiologer også på besøk i galleriet og behandlet ham på stedet. Ifølge The Times, var anfallet ikke forårsaket av rødt kjøtt eller sigaretter, men heller av renessansemaleren Sandro Botticellis maleri «Venus' fødsel» fra 1486 [[1]](https://example.com?query_parameters)."
     ]
    }
   ],
   "source": [
    "for chunk in configurable_chain.with_config(configurable={\"model\": \"gpt4o\"}).stream({\"question\": QUESTION}):\n",
    "    print(chunk, end=\"\", flush=True)"
   ]
  },
  {
   "cell_type": "markdown",
   "id": "2d1fe9e3-6772-42d3-aa8a-dff103768451",
   "metadata": {},
   "source": [
    "# Using Other models from the Azure AI Catalog (optional)"
   ]
  },
  {
   "cell_type": "markdown",
   "id": "3a90536f-b5d8-4b82-8109-a46ec46dad72",
   "metadata": {},
   "source": [
    "Besides OpenAI models, Azure AI Studio provides a wide selection of models from an extensive catalog featuring providers such as Mistral, Cohere, Meta, HuggingFace, Nvidia, Databricks, and Microsoft's own offerings.\n",
    "\n",
    "Several models are available as serverless, pay-as-you-go endpoints. Examples include Mistral-Large and Cohere Command R+.\n",
    "\n",
    "To use the following code, visit https://ai.azure.com and deploy [Mistral-Large](https://ai.azure.com/explore/models/Mistral-large/version/1/registry/azureml-mistral) and [Cohere-Command-R-plus](https://ai.azure.com/explore/models/Cohere-command-r-plus/version/3/registry/azureml-cohere) on a pay-as-you-go basis, then copy the endpoint URLs and keys into the cells below."
   ]
  },
  {
   "cell_type": "code",
   "execution_count": 29,
   "id": "fc06a00a-011e-489c-ba3f-8d1aaad3d3fd",
   "metadata": {},
   "outputs": [],
   "source": [
    "from langchain_mistralai import ChatMistralAI\n",
    "from langchain_cohere.chat_models import ChatCohere"
   ]
  },
  {
   "cell_type": "code",
   "execution_count": 30,
   "id": "50c1855f-8c05-4824-ae71-6a0ee7ed8695",
   "metadata": {},
   "outputs": [],
   "source": [
    "os.environ[\"MISTRAL_API_ENDPOINT\"] = \"https://<YOUR_MISTRAL_DEPLOYMENT_NAME>.<YOUR_REGION>.inference.ai.azure.com\"\n",
    "os.environ[\"MISTRAL_API_KEY\"] = \"ENTER HERE YOUR MISTRAL ENDPOINT API KEY\"\n",
    "os.environ[\"COHERE_API_ENDPOINT\"] = \"https://<YOUR_COHERE_DEPLOYMENT_NAME>.<YOUR_REGION>.inference.ai.azure.com/v1\"\n",
    "os.environ[\"COHERE_API_KEY\"] = \"ENTER HERE YOUR COHERE ENDPOINT API KEY\""
   ]
  },
  {
   "cell_type": "code",
   "execution_count": 31,
   "id": "37e5ce45-ab84-439f-bd14-8fd31b377469",
   "metadata": {},
   "outputs": [],
   "source": [
    "llm_mistral = ChatMistralAI(endpoint=os.environ[\"MISTRAL_API_ENDPOINT\"],\n",
    "                    api_key=os.environ[\"MISTRAL_API_KEY\"],\n",
    "                    temperature=0, max_tokens=COMPLETION_TOKENS,\n",
    "                    streaming=True)\n",
    "\n",
    "llm_cohere = ChatCohere(\n",
    "    base_url=os.environ[\"COHERE_API_ENDPOINT\"],\n",
    "    cohere_api_key=os.environ[\"COHERE_API_KEY\"],\n",
    "    streaming=True,\n",
    "    max_tokens=COMPLETION_TOKENS,\n",
    "    temperature=0\n",
    ")"
   ]
  },
  {
   "cell_type": "markdown",
   "id": "0cc6c49a-9046-4416-aaf2-75c0c80136d7",
   "metadata": {},
   "source": [
    "Let's call the invoke method and see if they work"
   ]
  },
  {
   "cell_type": "code",
   "execution_count": 32,
   "id": "50f570f9-86aa-40f4-9ad0-b7ddf40c5434",
   "metadata": {},
   "outputs": [
    {
     "data": {
      "text/plain": [
       "'I am a language model trained by the Mistral AI team. I am designed to understand and generate human-like text based on the input I receive. I can assist with a wide range of tasks, from answering questions and providing information to helping with brainstorming and creativity.'"
      ]
     },
     "execution_count": 32,
     "metadata": {},
     "output_type": "execute_result"
    }
   ],
   "source": [
    "llm_mistral.invoke(\"who are you?\").content"
   ]
  },
  {
   "cell_type": "code",
   "execution_count": 31,
   "id": "78726c37-7ecb-40fe-8645-6de89416c171",
   "metadata": {},
   "outputs": [
    {
     "ename": "NameError",
     "evalue": "name 'llm_cohere' is not defined",
     "output_type": "error",
     "traceback": [
      "\u001b[0;31m---------------------------------------------------------------------------\u001b[0m",
      "\u001b[0;31mNameError\u001b[0m                                 Traceback (most recent call last)",
      "Cell \u001b[0;32mIn[31], line 1\u001b[0m\n\u001b[0;32m----> 1\u001b[0m \u001b[43mllm_cohere\u001b[49m\u001b[38;5;241m.\u001b[39minvoke(\u001b[38;5;124m\"\u001b[39m\u001b[38;5;124mwho are you?\u001b[39m\u001b[38;5;124m\"\u001b[39m)\u001b[38;5;241m.\u001b[39mcontent\n",
      "\u001b[0;31mNameError\u001b[0m: name 'llm_cohere' is not defined"
     ]
    }
   ],
   "source": [
    "llm_cohere.invoke(\"who are you?\").content"
   ]
  },
  {
   "cell_type": "markdown",
   "id": "b5d19cd5-b044-4eef-ad6c-057f7f174378",
   "metadata": {},
   "source": [
    "Great, now let's add the same RAG chain that we used before with the Azure OpenAI models"
   ]
  },
  {
   "cell_type": "code",
   "execution_count": 38,
   "id": "e441c1d3-5133-427a-9120-2208afd16f9a",
   "metadata": {},
   "outputs": [],
   "source": [
    "mistral_chain = (\n",
    "    {\n",
    "        \"context\": itemgetter(\"question\") | retriever, # Passes the question to the retriever and the results are assign to context\n",
    "        \"question\": itemgetter(\"question\")\n",
    "    }\n",
    "    | DOCSEARCH_PROMPT  # Passes the input variables above to the prompt template\n",
    "    | llm_mistral   # Passes the finished prompt to the LLM\n",
    "    | StrOutputParser()  # converts the output (Runnable object) to the desired output (string)\n",
    ")\n",
    "\n",
    "cohere_chain = (\n",
    "    {\n",
    "        \"context\": itemgetter(\"question\") | retriever, # Passes the question to the retriever and the results are assign to context\n",
    "        \"question\": itemgetter(\"question\")\n",
    "    }\n",
    "    | DOCSEARCH_PROMPT  # Passes the input variables above to the prompt template\n",
    "    | llm_cohere   # Passes the finished prompt to the LLM\n",
    "    | StrOutputParser()  # converts the output (Runnable object) to the desired output (string)\n",
    ")"
   ]
  },
  {
   "cell_type": "markdown",
   "id": "6452aec2-ad0d-4575-9e86-f951a2cb109c",
   "metadata": {},
   "source": [
    "Since they also both support streaming, we can use the `stream` method from langchain as well"
   ]
  },
  {
   "cell_type": "code",
   "execution_count": 39,
   "id": "81b5695d-30f5-4ee0-88c1-3ac622733f5b",
   "metadata": {},
   "outputs": [
    {
     "name": "stdout",
     "output_type": "stream",
     "text": [
      "Several documents suggest different medications that can reduce inflammation in the lungs.\n",
      "\n",
      "1. Interleukin-22 (IL-22) is a cytokine that can protect the lung during infection by reducing pulmonary inflammation and promoting tight junction formation. Administering recombinant IL-22 in vivo has been shown to reduce inflammation and fluid leak into the lung [[1]](https://www.ncbi.nlm.nih.gov/pmc/articles/PMC6917921/?sv=2022-11-02&ss=b&srt=sco&sp=rl&se=2026-07-09T13:52:04Z&st=2024-07-09T05:52:04Z&spr=https&sig=9Nx31tWOzf6CWylUZnGaciT9VDWVJSJ9vQulMcshm7Q%3D).\n",
      "\n",
      "2. Chloroquine, at clinically achievable concentrations in the lung (100 μM), has been found to inhibit the lipopolysaccharide-induced release of pro-inflammatory cytokines such as TNF-α, IL-6, CCL2, and CCL3 in human lung parenchymal explants. This suggests that chloroquine may mitigate the cytokine storm associated with severe pneumonia caused by coronaviruses [[2]](https://doi.org/10.1093/cid/ciaa546;%20https://www.ncbi.nlm.nih.gov/pubmed/32382733/?sv=2022-11-02&ss=b&srt=sco&sp=rl&se=2026-07-09T13:52:04Z&st=2024-07-09T05:52:04Z&spr=https&sig=9Nx31tWOzf6CWylUZnGaciT9VDWVJSJ9vQulMcshm7Q%3D).\n",
      "\n",
      "3. Escin, an agent with potent anti-inflammatory and anti-viral effects, has been suggested as a therapeutic opportunity for add-on therapy in acute lung injury (ALI) related to COVID-19 infection [[3]](https://doi.org/10.1002/jcph.1644;%20https://www.ncbi.nlm.nih.gov/pubmed/32441805/?sv=2022-11-02&ss=b&srt=sco&sp=rl&se=2026-07-09T13:52:04Z&st=2024-07-09T05:52:04Z&spr=https&sig=9Nx31tWOzf6CWylUZnGaciT9VDWVJSJ9vQulMcshm7Q%3D).\n",
      "\n",
      "4. Low doses of radiation therapy (RT) have been shown to protect the lung from inflammation by increasing the percentage of nerve- and airway-associated macrophages (NAMs) producing the anti-inflammatory cytokine IL-10, leading to a more favorable pro- versus anti-inflammatory cytokine balance (IL6-IFNγ/IL-10) [[4]](https://doi.org/10.1101/2020.05.11.077651?sv=2022-11-02&ss=b&srt=sco&sp=rl&se=2026-07-09T13:52:04Z&st=2024-07-09T05:52:04Z&spr=https&sig=9Nx31tWOzf6CWylUZnGaciT9VDWVJSJ9vQulMcshm7Q%3D).\n",
      "\n",
      "5. Tocilizumab, an IL-6 blocker, has been demonstrated to curb the \"cytokine storm\" in selected patients with severe COVID-19-related pneumonia, preventing ICU admission and the requirement for mechanical ventilation [[5]](https://doi.org/10.1101/2020.04.20.20061861?sv=2022-11-02&ss=b&srt=sco&sp=rl&se=2026-07-09T13:52:04Z&st=2024-07-09T05:52:04Z&spr=https&sig=9Nx31tWOzf6CWylUZnGaciT9VDWVJSJ9vQulMcshm7Q%3D).\n",
      "\n",
      "These findings suggest that various medications, including cytokines, antiviral agents, anti-inflammatory drugs, and even radiation therapy, may have potential roles in reducing lung inflammation. However, further research is needed to fully understand their mechanisms of action, efficacy, and safety in different clinical contexts."
     ]
    }
   ],
   "source": [
    "for chunk in mistral_chain.stream({\"question\": QUESTION}):\n",
    "    print(chunk, end=\"\", flush=True)"
   ]
  },
  {
   "cell_type": "code",
   "execution_count": 42,
   "id": "5ff34dfd-52e6-45b0-a990-46a59947b8c7",
   "metadata": {},
   "outputs": [
    {
     "name": "stdout",
     "output_type": "stream",
     "text": [
      "- Chloroquine\n",
      "- Escin\n",
      "- Interleukin-22 (IL-22)\n",
      "- Low doses of radiation therapy (RT)\n",
      "- Tocilizumab\n",
      "- Tanshinone IIA (TIIA)\n",
      "- Dexamethasone\n",
      "- Natural herbal medicine (NHM)\n",
      "- Corticosteroids"
     ]
    }
   ],
   "source": [
    "for chunk in cohere_chain.stream({\"question\": QUESTION}):\n",
    "    print(chunk, end=\"\", flush=True)"
   ]
  },
  {
   "cell_type": "markdown",
   "id": "0a51d5e2-ef4e-4355-b933-a03c7decb550",
   "metadata": {},
   "source": [
    "The two models, Mistral Large and Command R+, as demonstrated, are capable of capturing context more effectively than GPT-3.5, resulting in superior responses. In terms of speed and breath of response, they are comparable to GPT-4.\n",
    "\n",
    "As we will see in the next notebooks, we will need a bit more than just understanding all the context in order to build a multi-agentic bot architecture (parallel function calling for example), but for now it is good to understand the options available in terms of: \n",
    "- Context understanding\n",
    "- Speed of response\n",
    "- Quality of response\n",
    "- Price\n",
    "\n",
    "Check out these Model Benchmark charts provided by Azure AI Studio: https://ai.azure.com/explore/benchmarks"
   ]
  },
  {
   "cell_type": "markdown",
   "id": "f347373a-a5be-473d-b64e-0f6b6dbcd0e0",
   "metadata": {},
   "source": [
    "# Summary\n",
    "##### By using OpenAI, the answers to user questions are way better than taking just the results from Azure AI Search. So the summary is:\n",
    "- Utilizing Azure AI Search, we conduct a multi-index hybrid search that identifies the top chunks of documents from each index.\n",
    "- Subsequently, Azure OpenAI utilizes these extracted chunks as context, comprehends the content, and employs it to deliver optimal answers.\n",
    "- Best of two worlds!\n",
    "\n",
    "##### Important observations on this notebook:\n",
    "\n",
    "1) Answers with GPT-3.5 are less quality but fast\n",
    "2) Answers with GPT-3.5 sometimes failed on provinding citations in the right format\n",
    "3) Answers with GPT-4 are great quality but slower\n",
    "4) Answers with GPT-4 always provide good and diverse citations in the right format\n",
    "5) Models like Mistral Large or Cohere Command R+ provide, so far, a similar experience to GPT-4\n",
    "5) Streaming the answers improves the user experience big time!"
   ]
  },
  {
   "cell_type": "markdown",
   "id": "fdc6e2fe-1c34-4952-99ad-14940f022379",
   "metadata": {},
   "source": [
    "# NEXT\n",
    "In the next notebook, we are going to see how we can treat complex and large documents separately, also using Vector Search"
   ]
  }
 ],
 "metadata": {
  "kernelspec": {
   "display_name": "azureml_py310_sdkv2",
   "language": "python",
   "name": "python3"
  },
  "language_info": {
   "codemirror_mode": {
    "name": "ipython",
    "version": 3
   },
   "file_extension": ".py",
   "mimetype": "text/x-python",
   "name": "python",
   "nbconvert_exporter": "python",
   "pygments_lexer": "ipython3",
   "version": "3.10.14"
  }
 },
 "nbformat": 4,
 "nbformat_minor": 5
}
